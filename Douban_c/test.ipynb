{
 "cells": [
  {
   "cell_type": "code",
   "execution_count": 1,
   "metadata": {
    "collapsed": true
   },
   "outputs": [
    {
     "name": "stdout",
     "output_type": "stream",
     "text": [
      "['计算之魂 : 计算科学品位和认知进阶\\n', '吴军 / 人民邮电出版社 / 2021-11 / 109\\n', ' 9.3 (113人评价)\\n', '对计算机科学的掌握程度，决定了一个计算机行业从业者能走多远。在本书中，作者将人文历史与计算机科学相结合，通过一些具体的例题，分10个主题系统地讲解了计算机科...\\n', '\\n', '纸质版 91.20元\\n', '\\n', '数据密集型应用系统设计\\n', 'Martin Kleppmann / 赵军平、李三平、吕云松、耿煜 / 中国电力出版社 / 2018-9-1 / 128\\n', ' 9.7 (1133人评价)\\n', '全书分为三大部分： 第一部分，主要讨论有关增强数据密集型应用系统所需的若干基本原则。首先开篇第1章即瞄准目标：可靠性、可扩展性与可维护性，如何认识这些问题以...\\n', '\\n', '纸质版 96.00元\\n', '\\n', 'Python编程 : 从入门到实践（第2版）\\n', '[美]埃里克·马瑟斯（Eric Matthes） / 袁国忠 / 人民邮电出版社 / 2020-10 / 89\\n', ' 9.2 (779人评价)\\n', '本书是针对所有层次Python读者而作的Python入门书。全书分两部分：第一部分介绍用Python编程所必须了解的基本概念，包括Matplotlib等强大...\\n', '\\n', '纸质版 74.70元\\n', '去看电子版\\n', '\\n', '黑客与画家 : 硅谷创业之父Paul Graham文集\\n', '[美] Paul Graham / 阮一峰 / 人民邮电出版社 / 2011-4 / 49.00元\\n', ' 8.7 (21403人评价)\\n', '本书是硅谷创业之父Paul Graham 的文集，主要介绍黑客即优秀程序员的爱好和动机，讨论黑客成长、黑客对世界的贡献以及编程语言和黑客工作方法等所有对计算...\\n', '\\n', '纸质版 49.20元\\n', '去看电子版\\n', '\\n', '编码 : 隐匿在计算机软硬件背后的语言\\n', '[美] Charles Petzold / 左飞、薛佟佟 / 电子工业出版社 / 2010 / 55.00元\\n', ' 9.3 (4459人评价)\\n', '本书讲述的是计算机工作原理。作者用丰富的想象和清晰的笔墨将看似繁杂的理论阐述得通俗易懂，你丝毫不会感到枯燥和生硬。更重要的是，你会因此而获得对计算机工作原理...\\n', '\\n', '纸质版 46.10元\\n', '\\n', '逐梦旅程：Windows游戏编程之从零开始\\n', '毛星云 / 清华大学出版社 / 2013-9-16 / 98.00元\\n', ' 8.7 (65人评价)\\n', '端游开发是目前最热的职业，报酬丰厚且能实现自己的游戏梦想。作者历经一年时间，编写了这本详细讲解Windows游戏开发的入门图书。 《逐梦旅程：Windows...\\n', '\\n', '纸质版 83.30元\\n', '\\n', '深入理解计算机系统（原书第3版）\\n', \"Randal E.Bryant、David O'Hallaron / 龚奕利、贺莲 / 机械工业出版社 / 2016-11 / 139.00元\\n\", ' 9.8 (1760人评价)\\n', '和第2版相比，本版内容上*大的变化是，从以IA32和x86-64为基础转变为完全以x86-64为基础。主要更新如下： 基于x86-64，大量地重写代码，首次...\\n', '\\n', '在豆瓣购买\\n', '\\n', '流畅的Python\\n', '[巴西] Luciano Ramalho / 安道、吴珂 / 人民邮电出版社 / 2017-5-15 / 139元\\n', ' 9.4 (991人评价)\\n', '【技术大咖推荐】 “很荣幸担任这本优秀图书的技术审校。这本书能帮助很多中级Python程序员掌握这门语言，我也从中学到了相当多的知识！”——Alex Mar...\\n', '\\n', '纸质版 116.00元\\n', '\\n', '代码随想录——跟着Carl学算法\\n', '孙秀洋 / 电子工业出版社 / 2021-12 / 138\\n', ' 7.8 (117人评价)\\n', '《代码随想录——跟着Carl学算法》归纳了程序员面试中的经典算法题，并按照由浅入深、循序渐进的顺序讲解。 《代码随想录——跟着Carl学算法》首先讲解程序员...\\n', '\\n', '纸质版 69.00元\\n', '\\n', '重构（第2版） : 改善既有代码的设计\\n', '[美] Martin Fowler / 熊节、林从羽 / 人民邮电出版社 / 2019-3 / 168.00元\\n', ' 9.1 (293人评价)\\n', '本书是经典著作《重构》出版20年后的更新版。书中清晰揭示了重构的过程，解释了重构的原理和实践方式，并给出了何时以及何地应该开始挖掘代码以求改善。书中给出了6...\\n', '\\n', '纸质版 118.50元\\n', '\\n', '程序员修炼之道（第2版） : 通向务实的最高境界\\n', '[美] David Thomas、[美] Andrew Hunt / 云风 / 电子工业出版社 / 2020-4-1 / 89.00元\\n', ' 9.1 (497人评价)\\n', '本书之所以在全球范围内广泛传播，被一代代开发者奉为圭臬，盖因它可以创造出真正的价值：或编写出更好的软件，或探究出编程的本质，而所有收获均不依赖于特定语言、框...\\n', '\\n', '在豆瓣购买\\n', '\\n', '计算机程序的构造和解释(原书第2版)\\n', '[美] Harold Abelson、[美] Gerald Jay Sussman、[美] Julie Sussman / 裘宗燕 / 机械工业出版社 / 2004-2 / 45.00元\\n', ' 9.5 (2553人评价)\\n', '《计算机程序的构造和解释》成型于美国麻省理工学院（MIT）多年使用的一本教材，1984年出版，1996年修订为第二版。在过去的二十多年里，该书对于计算机科学...\\n', '\\n', '纸质版 34.90元\\n', '\\n', 'Python编程 : 从入门到实践\\n', '[美] 埃里克·马瑟斯 / 袁国忠 / 人民邮电出版社 / 2016-7-1 / 89.00元\\n', ' 9.1 (3800人评价)\\n', '本书是一本针对所有层次的Python 读者而作的Python 入门书。全书分两部分：第一部分介绍用Python 编程所必须了解的基本概念，包括matplot...\\n', '\\n', '纸质版 72.70元\\n', '去看电子版\\n', '\\n', 'Python编程快速上手（第2版） : 让繁琐工作自动化\\n', '[美] Al Sweigart / 王海鹏 / 人民邮电出版社 / 2021-3-1 / 89.00元\\n', ' 9.2 (98人评价)\\n', '本书是一本面向初学者的Python编程实用指南。本书不仅介绍了Python语言的基础知识，而且通过案例实践教读者如何使用这些知识和技能。本书的第一部分介绍了...\\n', '\\n', '纸质版 62.80元\\n', '去看电子版\\n', '\\n', '深入理解计算机系统（原书第2版）\\n', \"[美] Randal E.Bryant、[美] David O' Hallaron / 龚奕利、雷迎春 / 机械工业出版社 / 2011-1-1 / 99.00元\\n\", ' 9.7 (2940人评价)\\n', '本书从程序员的视角详细阐述计算机系统的本质概念，并展示这些概念如何实实在在地影响应用程序的正确性、性能和实用性。全书共12章，主要内容包括信息的表示和处理、...\\n', '\\n', '纸质版 81.70元\\n', '\\n', '机器学习实战（原书第2版） : 基于Scikit-Learn、Keras和TensorFlow\\n', '[法] Aurélien Géron / 宋能辉、李娴 / 机械工业出版社 / 2020-10-1 / 149.00元\\n', ' 9.9 (198人评价)\\n', '这本机器学习畅销书基于TensorFlow 2和Scikit-Learn的新版本进行了全面更新，通过具体的示例、非常少的理论和可用于生产环境的Python框...\\n', '\\n', '纸质版 122.90元\\n', '\\n', 'Python深度学习\\n', '[美] 弗朗索瓦•肖莱 / 张亮 / 人民邮电出版社 / 2018-8 / 119.00元\\n', ' 9.5 (904人评价)\\n', '本书由Keras之父、现任Google人工智能研究员的弗朗索瓦•肖莱（François Chollet）执笔，详尽介绍了用Python和Keras进行深度学...\\n', '\\n', '纸质版 99.60元\\n', '\\n', 'Java核心技术·卷 I（原书第11版） : 基础知识\\n', '[美] 凯 S.霍斯特曼（Cay S.Horstmann） / 林琪、苏钰涵 / 机械工业出版社 / 2019-11-25 / 149元\\n', ' 9.4 (212人评价)\\n', '本书由拥有20多年教学与研究经验的资深Java技术专家撰写（获Jolt大奖），是程序员的优选Java指南。本版针对Java SE 9、10和 11全面更新。...\\n', '\\n', '纸质版 122.90元\\n', '\\n', '架构整洁之道\\n', '【美】Robert C. Martin（罗伯特 C. 马丁） / 电子工业出版社 / 2018-9 / 99.00元\\n', ' 8.7 (646人评价)\\n', '《架构整洁之道》是创造“Clean神话”的Bob大叔在架构领域的登峰之作，围绕“架构整洁”这一重要导向，系统地剖析其缘起、内涵及应用场景，涵盖软件研发完整过...\\n', '\\n', '在豆瓣购买\\n', '去看电子版\\n', '\\n', 'JavaScript百炼成仙\\n', '杨逸飞 / 清华大学出版社 / 2021-6-1 / 66.00元\\n', ' 7.7 (65人评价)\\n', '这是一本讲解JavaScript编程语言的技术书籍，只不过，本书采用了一种全新的写作手法。如果你厌倦了厚厚的、如同字典般的编程书籍，不妨尝试一下新的口味！通...']\n"
     ]
    }
   ],
   "source": [
    "f = open('data.txt','r',encoding='utf-8')\n",
    "text_data = f.readlines()\n",
    "print(text_data)\n",
    "f.close()"
   ]
  },
  {
   "cell_type": "code",
   "execution_count": 2,
   "outputs": [
    {
     "data": {
      "text/plain": "142"
     },
     "execution_count": 2,
     "metadata": {},
     "output_type": "execute_result"
    }
   ],
   "source": [
    "len(text_data) #行数"
   ],
   "metadata": {
    "collapsed": false,
    "pycharm": {
     "name": "#%%\n"
    }
   }
  },
  {
   "cell_type": "code",
   "execution_count": 3,
   "outputs": [
    {
     "data": {
      "text/plain": "[0, 1, 2, 3, 4, 5, 6, 7, 8, 9]"
     },
     "execution_count": 3,
     "metadata": {},
     "output_type": "execute_result"
    }
   ],
   "source": [
    "list(range(10))"
   ],
   "metadata": {
    "collapsed": false,
    "pycharm": {
     "name": "#%%\n"
    }
   }
  },
  {
   "cell_type": "code",
   "execution_count": 4,
   "outputs": [
    {
     "name": "stdout",
     "output_type": "stream",
     "text": [
      "计算之魂 : 计算科学品位和认知进阶\n",
      "数据密集型应用系统设计\n",
      "Python编程 : 从入门到实践（第2版）\n",
      "黑客与画家 : 硅谷创业之父Paul Graham文集\n",
      "编码 : 隐匿在计算机软硬件背后的语言\n",
      "逐梦旅程：Windows游戏编程之从零开始\n",
      "深入理解计算机系统（原书第3版）\n",
      "流畅的Python\n",
      "代码随想录——跟着Carl学算法\n",
      "重构（第2版） : 改善既有代码的设计\n",
      "程序员修炼之道（第2版） : 通向务实的最高境界\n",
      "计算机程序的构造和解释(原书第2版)\n",
      "Python编程 : 从入门到实践\n",
      "Python编程快速上手（第2版） : 让繁琐工作自动化\n",
      "深入理解计算机系统（原书第2版）\n",
      "机器学习实战（原书第2版） : 基于Scikit-Learn、Keras和TensorFlow\n",
      "Python深度学习\n",
      "Java核心技术·卷 I（原书第11版） : 基础知识\n",
      "架构整洁之道\n",
      "JavaScript百炼成仙\n"
     ]
    }
   ],
   "source": [
    "for index in range(len(text_data)-3):\n",
    "    if len(text_data[index].strip()) > 0 \\\n",
    "        and len(text_data[index+1].strip()) > 0 \\\n",
    "        and len(text_data[index+2].strip()) > 0 \\\n",
    "        and len(text_data[index+3].strip()) > 0 :\n",
    "        print(text_data[index].strip())"
   ],
   "metadata": {
    "collapsed": false,
    "pycharm": {
     "name": "#%%\n"
    }
   }
  },
  {
   "cell_type": "code",
   "execution_count": 5,
   "outputs": [],
   "source": [
    "# text_data[index]"
   ],
   "metadata": {
    "collapsed": false,
    "pycharm": {
     "name": "#%%\n"
    }
   }
  },
  {
   "cell_type": "code",
   "execution_count": 6,
   "outputs": [],
   "source": [],
   "metadata": {
    "collapsed": false,
    "pycharm": {
     "name": "#%%\n"
    }
   }
  },
  {
   "cell_type": "code",
   "execution_count": 31,
   "outputs": [
    {
     "data": {
      "text/plain": "<IPython.core.display.HTML object>",
      "text/html": "<h1>China</h1>"
     },
     "execution_count": 31,
     "metadata": {},
     "output_type": "execute_result"
    }
   ],
   "source": [
    "from IPython.core.display import HTML\n",
    "from IPython.display import display\n",
    "HTML('<h1>China</h1>')"
   ],
   "metadata": {
    "collapsed": false,
    "pycharm": {
     "name": "#%%\n"
    }
   }
  },
  {
   "cell_type": "code",
   "execution_count": 8,
   "outputs": [
    {
     "data": {
      "text/plain": "<IPython.core.display.HTML object>",
      "text/html": "<h1>China</h1>\n"
     },
     "metadata": {},
     "output_type": "display_data"
    }
   ],
   "source": [
    "%%html\n",
    "<h1>China</h1>"
   ],
   "metadata": {
    "collapsed": false,
    "pycharm": {
     "name": "#%%\n"
    }
   }
  },
  {
   "cell_type": "code",
   "execution_count": 9,
   "outputs": [
    {
     "data": {
      "text/plain": "<IPython.core.display.HTML object>",
      "text/html": "<a href=\"http://www.baidu.com\">Baidu主页</a>\n"
     },
     "metadata": {},
     "output_type": "display_data"
    }
   ],
   "source": [
    "%%html\n",
    "<a href=\"http://www.baidu.com\">Baidu主页</a>"
   ],
   "metadata": {
    "collapsed": false,
    "pycharm": {
     "name": "#%%\n"
    }
   }
  },
  {
   "cell_type": "code",
   "execution_count": 10,
   "outputs": [
    {
     "data": {
      "text/plain": "<IPython.core.display.HTML object>",
      "text/html": "<p>B对计算机科学的掌握程度，决定了一个计算机行业从业者能走多远。在本书中，作者将人文历史与计算机科学相结合，通过一些具体的例题，分10个主题系统地讲解了计算机科...</p>\n"
     },
     "metadata": {},
     "output_type": "display_data"
    }
   ],
   "source": [
    "%%html\n",
    "<p>B对计算机科学的掌握程度，决定了一个计算机行业从业者能走多远。在本书中，作者将人文历史与计算机科学相结合，通过一些具体的例题，分10个主题系统地讲解了计算机科...</p>"
   ],
   "metadata": {
    "collapsed": false,
    "pycharm": {
     "name": "#%%\n"
    }
   }
  },
  {
   "cell_type": "code",
   "execution_count": 11,
   "outputs": [
    {
     "data": {
      "text/plain": "<IPython.core.display.HTML object>",
      "text/html": "<img src='https://img1.doubanio.com/view/photo/albumcover/public/p2623486479.webp'>\n"
     },
     "metadata": {},
     "output_type": "display_data"
    }
   ],
   "source": [
    "%%html\n",
    "<img src='https://img1.doubanio.com/view/photo/albumcover/public/p2623486479.webp'>"
   ],
   "metadata": {
    "collapsed": false,
    "pycharm": {
     "name": "#%%\n"
    }
   }
  },
  {
   "cell_type": "code",
   "execution_count": 12,
   "outputs": [
    {
     "data": {
      "text/plain": "<IPython.core.display.HTML object>",
      "text/html": "<!DOCTYPE html>\n<html>\n    <head>\n        <title>标题111</title>\n    </head>\n    <body>\n        <title>标题111</title>\n        <h1>China</h1>\n        <a href=\"http://www.baidu.com\">Baidu主页</a>\n        <img src='https://img3.doubanio.com/view/subject/s/public/s34032260.jpg'>\n        <p>B对计算机科学的掌握程度，决定了一个计算机行业从业者能走多远。在本书中，作者将人文历史与计算机科学相结合，通过一些具体的例题，分10个主题系统地讲解了计算机科...</p>\n    </body>\n</html>\n"
     },
     "metadata": {},
     "output_type": "display_data"
    }
   ],
   "source": [
    "%%html\n",
    "<!DOCTYPE html>\n",
    "<html>\n",
    "    <head>\n",
    "        <title>标题111</title>\n",
    "    </head>\n",
    "    <body>\n",
    "        <title>标题111</title>\n",
    "        <h1>China</h1>\n",
    "        <a href=\"http://www.baidu.com\">Baidu主页</a>\n",
    "        <img src='https://img3.doubanio.com/view/subject/s/public/s34032260.jpg'>\n",
    "        <p>B对计算机科学的掌握程度，决定了一个计算机行业从业者能走多远。在本书中，作者将人文历史与计算机科学相结合，通过一些具体的例题，分10个主题系统地讲解了计算机科...</p>\n",
    "    </body>\n",
    "</html>"
   ],
   "metadata": {
    "collapsed": false,
    "pycharm": {
     "name": "#%%\n"
    }
   }
  },
  {
   "cell_type": "code",
   "execution_count": 13,
   "outputs": [],
   "source": [
    "import requests\n",
    "\n",
    "r = requests.get('https://book.douban.com/tag/%E7%BC%96%E7%A8%8B')"
   ],
   "metadata": {
    "collapsed": false,
    "pycharm": {
     "name": "#%%\n"
    }
   }
  },
  {
   "cell_type": "code",
   "execution_count": 14,
   "outputs": [
    {
     "data": {
      "text/plain": "418"
     },
     "execution_count": 14,
     "metadata": {},
     "output_type": "execute_result"
    }
   ],
   "source": [
    "r.status_code"
   ],
   "metadata": {
    "collapsed": false,
    "pycharm": {
     "name": "#%%\n"
    }
   }
  },
  {
   "cell_type": "code",
   "execution_count": 15,
   "outputs": [
    {
     "data": {
      "text/plain": "{'Date': 'Fri, 18 Mar 2022 04:00:19 GMT', 'Content-Length': '0', 'Connection': 'keep-alive', 'Keep-Alive': 'timeout=30', 'Server': 'dae', 'Strict-Transport-Security': 'max-age=15552000', 'X-Content-Type-Options': 'nosniff'}"
     },
     "execution_count": 15,
     "metadata": {},
     "output_type": "execute_result"
    }
   ],
   "source": [
    "r.headers"
   ],
   "metadata": {
    "collapsed": false,
    "pycharm": {
     "name": "#%%\n"
    }
   }
  },
  {
   "cell_type": "code",
   "execution_count": 16,
   "outputs": [
    {
     "data": {
      "text/plain": "''"
     },
     "execution_count": 16,
     "metadata": {},
     "output_type": "execute_result"
    }
   ],
   "source": [
    "r.text"
   ],
   "metadata": {
    "collapsed": false,
    "pycharm": {
     "name": "#%%\n"
    }
   }
  },
  {
   "cell_type": "code",
   "execution_count": 17,
   "outputs": [
    {
     "name": "stdout",
     "output_type": "stream",
     "text": [
      "200\n"
     ]
    }
   ],
   "source": [
    "import requests\n",
    "from requests.structures import CaseInsensitiveDict\n",
    "from IPython.core.display import HTML\n",
    "\n",
    "url = \"https://book.douban.com/tag/%E7%BC%96%E7%A8%8B\"\n",
    "\n",
    "headers = CaseInsensitiveDict()\n",
    "\n",
    "headers[\"User-Agent\"] = \"Mozilla/5.0 (Windows NT 10.0; Win64; x64) AppleWebKit/537.36 (KHTML, like Gecko) Chrome/99.0.4844.51 Safari/537.36 Edg/99.0.1150.39\"\n",
    "headers[\"Accept\"] = \"text/html,application/xhtml+xml,application/xml;q=0.9,image/webp,image/apng,*/*;q=0.8,application/signed-exchange;v=b3;q=0.9\"\n",
    "\n",
    "headers[\"Referer\"] = \"https://book.douban.com/\"\n",
    "\n",
    "\n",
    "\n",
    "resp = requests.get(url, headers=headers)\n",
    "\n",
    "print(resp.status_code)\n"
   ],
   "metadata": {
    "collapsed": false,
    "pycharm": {
     "name": "#%%\n"
    }
   }
  },
  {
   "cell_type": "code",
   "execution_count": 18,
   "outputs": [],
   "source": [
    "content = resp.text"
   ],
   "metadata": {
    "collapsed": false,
    "pycharm": {
     "name": "#%%\n"
    }
   }
  },
  {
   "cell_type": "code",
   "execution_count": 19,
   "outputs": [],
   "source": [
    "from lxml import etree\n"
   ],
   "metadata": {
    "collapsed": false,
    "pycharm": {
     "name": "#%%\n"
    }
   }
  },
  {
   "cell_type": "code",
   "execution_count": 20,
   "outputs": [],
   "source": [
    "content = resp.text\n",
    "sel = etree.HTML(content)"
   ],
   "metadata": {
    "collapsed": false,
    "pycharm": {
     "name": "#%%\n"
    }
   }
  },
  {
   "cell_type": "code",
   "execution_count": 21,
   "outputs": [
    {
     "data": {
      "text/plain": "<Element html at 0x200de498080>"
     },
     "execution_count": 21,
     "metadata": {},
     "output_type": "execute_result"
    }
   ],
   "source": [
    "sel"
   ],
   "metadata": {
    "collapsed": false,
    "pycharm": {
     "name": "#%%\n"
    }
   }
  },
  {
   "cell_type": "code",
   "execution_count": 22,
   "outputs": [
    {
     "name": "stdout",
     "output_type": "stream",
     "text": [
      "计算之魂:计算科学品位和认知进阶\n",
      "数据密集型应用系统设计\n",
      "Python编程:从入门到实践（第2版）\n",
      "黑客与画家:硅谷创业之父PaulGraham文集\n",
      "编码:隐匿在计算机软硬件背后的语言\n",
      "逐梦旅程：Windows游戏编程之从零开始\n",
      "深入理解计算机系统（原书第3版）\n",
      "流畅的Python\n",
      "代码随想录——跟着Carl学算法\n",
      "重构（第2版）:改善既有代码的设计\n",
      "程序员修炼之道（第2版）:通向务实的最高境界\n",
      "计算机程序的构造和解释(原书第2版)\n",
      "Python编程:从入门到实践\n",
      "Python编程快速上手（第2版）:让繁琐工作自动化\n",
      "深入理解计算机系统（原书第2版）\n",
      "机器学习实战（原书第2版）:基于Scikit-Learn、Keras和TensorFlow\n",
      "Python深度学习\n",
      "Java核心技术·卷I（原书第11版）:基础知识\n",
      "架构整洁之道\n",
      "JavaScript百炼成仙\n"
     ]
    }
   ],
   "source": [
    "for elem in sel.xpath('//h2/a'):\n",
    "    print(''.join(elem.itertext()).replace(' ','').replace('\\n',''))"
   ],
   "metadata": {
    "collapsed": false,
    "pycharm": {
     "name": "#%%\n"
    }
   }
  },
  {
   "cell_type": "code",
   "execution_count": 23,
   "outputs": [
    {
     "name": "stdout",
     "output_type": "stream",
     "text": [
      "85.9\n",
      "90.4\n",
      "74.7\n",
      "58.4\n",
      "46.1\n",
      "83.3\n",
      "116.0\n",
      "69.0\n",
      "151.2\n",
      "34.9\n",
      "72.7\n",
      "74.5\n",
      "81.7\n",
      "122.9\n",
      "99.6\n",
      "122.9\n",
      "55.6\n"
     ]
    }
   ],
   "source": [
    "for elem in sel.xpath('//span[@class=\"buy-info\"]/a/text()'):\n",
    "    print(float(elem.strip()[3:-1]))"
   ],
   "metadata": {
    "collapsed": false,
    "pycharm": {
     "name": "#%%\n"
    }
   }
  },
  {
   "cell_type": "code",
   "execution_count": 24,
   "outputs": [],
   "source": [
    "s = '//li[@class=\"subject-item\"]'"
   ],
   "metadata": {
    "collapsed": false,
    "pycharm": {
     "name": "#%%\n"
    }
   }
  },
  {
   "cell_type": "code",
   "execution_count": 32,
   "outputs": [
    {
     "name": "stdout",
     "output_type": "stream",
     "text": [
      "计算之魂:计算科学品位和认知进阶 85.9\n",
      "数据密集型应用系统设计 90.4\n",
      "Python编程:从入门到实践（第2版） 74.7\n",
      "黑客与画家:硅谷创业之父PaulGraham文集 58.4\n",
      "编码:隐匿在计算机软硬件背后的语言 46.1\n",
      "逐梦旅程：Windows游戏编程之从零开始 83.3\n",
      "深入理解计算机系统（原书第3版） -1\n",
      "流畅的Python 116.0\n",
      "代码随想录——跟着Carl学算法 69.0\n",
      "重构（第2版）:改善既有代码的设计 151.2\n",
      "程序员修炼之道（第2版）:通向务实的最高境界 -1\n",
      "计算机程序的构造和解释(原书第2版) 34.9\n",
      "Python编程:从入门到实践 72.7\n",
      "Python编程快速上手（第2版）:让繁琐工作自动化 74.5\n",
      "深入理解计算机系统（原书第2版） 81.7\n",
      "机器学习实战（原书第2版）:基于Scikit-Learn、Keras和TensorFlow 122.9\n",
      "Python深度学习 99.6\n",
      "Java核心技术·卷I（原书第11版）:基础知识 122.9\n",
      "架构整洁之道 -1\n",
      "JavaScript百炼成仙 55.6\n",
      "https://book.douban.com//tag/编程?start=20&type=T\n"
     ]
    }
   ],
   "source": [
    "from IPython.core.display import HTML\n",
    "from IPython.display import display\n",
    "import requests\n",
    "from requests.structures import CaseInsensitiveDict\n",
    "from lxml import etree\n",
    "\n",
    "\n",
    "next_page_url = \"https://book.douban.com/tag/%E7%BC%96%E7%A8%8B\"\n",
    "\n",
    "while 1:\n",
    "    headers = CaseInsensitiveDict()\n",
    "    headers[\"User-Agent\"] = \"Mozilla/5.0 (Windows NT 10.0; Win64; x64) AppleWebKit/537.36 (KHTML, like Gecko) Chrome/99.0.4844.51 Safari/537.36 Edg/99.0.1150.39\"\n",
    "    headers[\"Accept\"] = \"text/html,application/xhtml+xml,application/xml;q=0.9,image/webp,image/apng,*/*;q=0.8,application/signed-exchange;v=b3;q=0.9\"\n",
    "    headers[\"Referer\"] = \"https://book.douban.com/\"\n",
    "\n",
    "    resp = requests.get(next_page_url, headers=headers)\n",
    "\n",
    "    content = resp.text\n",
    "    sel = etree.HTML(content)\n",
    "\n",
    "    for block in sel.xpath('//li[@class=\"subject-item\"]'):\n",
    "        title = ''\n",
    "        elem_title = block.xpath('.//h2/a')\n",
    "        if elem_title:\n",
    "            title = ''.join(elem_title[0].itertext()).replace(' ','').replace('\\n','')\n",
    "        # print(title)\n",
    "\n",
    "        price = -1\n",
    "        elem_price = block.xpath('.//span[@class=\"buy-info\"]/a/text()')\n",
    "        if elem_price:\n",
    "            price = float(elem_price[0].strip()[3:-1])\n",
    "        # print(price)\n",
    "\n",
    "        cover = \"\"\n",
    "        elem_cover = block.xpath(\".//img/@src\")\n",
    "        if elem_cover:\n",
    "            cover = elem_cover[0]\n",
    "        # display(HTML(f\"<img src='{cover}'>\"))\n",
    "        print(title,price)\n",
    "    elem_next_page = sel.xpath(\"//span[@class='next']/a/@href\")\n",
    "    if elem_next_page:\n",
    "        next_page_url = 'https://book.douban.com/' + elem_next_page[0]\n",
    "        print(next_page_url)\n",
    "        # next_page_url\n",
    "    else:\n",
    "        break\n",
    "\n",
    "    break"
   ],
   "metadata": {
    "collapsed": false,
    "pycharm": {
     "name": "#%%\n"
    }
   }
  },
  {
   "cell_type": "code",
   "execution_count": 25,
   "outputs": [],
   "source": [],
   "metadata": {
    "collapsed": false,
    "pycharm": {
     "name": "#%%\n"
    }
   }
  }
 ],
 "metadata": {
  "kernelspec": {
   "name": "python3",
   "language": "python",
   "display_name": "Python 3 (ipykernel)"
  },
  "language_info": {
   "codemirror_mode": {
    "name": "ipython",
    "version": 2
   },
   "file_extension": ".py",
   "mimetype": "text/x-python",
   "name": "python",
   "nbconvert_exporter": "python",
   "pygments_lexer": "ipython2",
   "version": "2.7.6"
  }
 },
 "nbformat": 4,
 "nbformat_minor": 0
}