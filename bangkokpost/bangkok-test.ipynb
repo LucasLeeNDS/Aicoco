{
 "cells": [
  {
   "cell_type": "code",
   "execution_count": 1,
   "outputs": [
    {
     "name": "stdout",
     "output_type": "stream",
     "text": [
      "\n",
      "Your available languages are:\n",
      "\n",
      "input code\t\tfull name\n",
      "  ar\t\t\t  Arabic\n",
      "  be\t\t\t  Belarusian\n",
      "  bg\t\t\t  Bulgarian\n",
      "  da\t\t\t  Danish\n",
      "  de\t\t\t  German\n",
      "  el\t\t\t  Greek\n",
      "  en\t\t\t  English\n",
      "  es\t\t\t  Spanish\n",
      "  et\t\t\t  Estonian\n",
      "  fa\t\t\t  Persian\n",
      "  fi\t\t\t  Finnish\n",
      "  fr\t\t\t  French\n",
      "  he\t\t\t  Hebrew\n",
      "  hi\t\t\t  Hindi\n",
      "  hr\t\t\t  Croatian\n",
      "  hu\t\t\t  Hungarian\n",
      "  id\t\t\t  Indonesian\n",
      "  it\t\t\t  Italian\n",
      "  ja\t\t\t  Japanese\n",
      "  ko\t\t\t  Korean\n",
      "  mk\t\t\t  Macedonian\n",
      "  nb\t\t\t  Norwegian (Bokmål)\n",
      "  nl\t\t\t  Dutch\n",
      "  no\t\t\t  Norwegian\n",
      "  pl\t\t\t  Polish\n",
      "  pt\t\t\t  Portuguese\n",
      "  ro\t\t\t  Romanian\n",
      "  ru\t\t\t  Russian\n",
      "  sl\t\t\t  Slovenian\n",
      "  sr\t\t\t  Serbian\n",
      "  sv\t\t\t  Swedish\n",
      "  sw\t\t\t  Swahili\n",
      "  tr\t\t\t  Turkish\n",
      "  uk\t\t\t  Ukrainian\n",
      "  vi\t\t\t  Vietnamese\n",
      "  zh\t\t\t  Chinese\n",
      "\n",
      "None\n"
     ]
    }
   ],
   "source": [
    "import newspaper\n",
    "\n",
    "print(newspaper.languages())"
   ],
   "metadata": {
    "collapsed": false,
    "pycharm": {
     "name": "#%%\n"
    }
   }
  },
  {
   "cell_type": "code",
   "execution_count": 3,
   "outputs": [
    {
     "ename": "ArticleException",
     "evalue": "Article `download()` failed with HTTPSConnectionPool(host='www.bangkokpost.com', port=443): Max retries exceeded with url: /world/2336413/taiwan-rebuffs-philippines-complaint-about-s-china-sea-live-fire-drills (Caused by ConnectTimeoutError(<urllib3.connection.HTTPSConnection object at 0x000001D875B27DC0>, 'Connection to www.bangkokpost.com timed out. (connect timeout=7)')) on URL https://www.bangkokpost.com/world/2336413/taiwan-rebuffs-philippines-complaint-about-s-china-sea-live-fire-drills",
     "output_type": "error",
     "traceback": [
      "\u001B[1;31m---------------------------------------------------------------------------\u001B[0m",
      "\u001B[1;31mArticleException\u001B[0m                          Traceback (most recent call last)",
      "Input \u001B[1;32mIn [3]\u001B[0m, in \u001B[0;36m<cell line: 7>\u001B[1;34m()\u001B[0m\n\u001B[0;32m      5\u001B[0m news \u001B[38;5;241m=\u001B[39m Article(url, language\u001B[38;5;241m=\u001B[39m\u001B[38;5;124m'\u001B[39m\u001B[38;5;124men\u001B[39m\u001B[38;5;124m'\u001B[39m)\n\u001B[0;32m      6\u001B[0m news\u001B[38;5;241m.\u001B[39mdownload()        \u001B[38;5;66;03m# 加载网页\u001B[39;00m\n\u001B[1;32m----> 7\u001B[0m \u001B[43mnews\u001B[49m\u001B[38;5;241;43m.\u001B[39;49m\u001B[43mparse\u001B[49m\u001B[43m(\u001B[49m\u001B[43m)\u001B[49m           \u001B[38;5;66;03m# 解析网页\u001B[39;00m\n\u001B[0;32m      8\u001B[0m \u001B[38;5;28mprint\u001B[39m(\u001B[38;5;124m'\u001B[39m\u001B[38;5;124m题目：\u001B[39m\u001B[38;5;124m'\u001B[39m,news\u001B[38;5;241m.\u001B[39mtitle)       \u001B[38;5;66;03m# 新闻题目\u001B[39;00m\n\u001B[0;32m      9\u001B[0m \u001B[38;5;66;03m# print('正文：\\n',news.text)      # 正文内容\u001B[39;00m\n",
      "File \u001B[1;32mD:\\Code\\Anaconda\\envs\\pswd\\lib\\site-packages\\newspaper\\article.py:191\u001B[0m, in \u001B[0;36mArticle.parse\u001B[1;34m(self)\u001B[0m\n\u001B[0;32m    190\u001B[0m \u001B[38;5;28;01mdef\u001B[39;00m \u001B[38;5;21mparse\u001B[39m(\u001B[38;5;28mself\u001B[39m):\n\u001B[1;32m--> 191\u001B[0m     \u001B[38;5;28;43mself\u001B[39;49m\u001B[38;5;241;43m.\u001B[39;49m\u001B[43mthrow_if_not_downloaded_verbose\u001B[49m\u001B[43m(\u001B[49m\u001B[43m)\u001B[49m\n\u001B[0;32m    193\u001B[0m     \u001B[38;5;28mself\u001B[39m\u001B[38;5;241m.\u001B[39mdoc \u001B[38;5;241m=\u001B[39m \u001B[38;5;28mself\u001B[39m\u001B[38;5;241m.\u001B[39mconfig\u001B[38;5;241m.\u001B[39mget_parser()\u001B[38;5;241m.\u001B[39mfromstring(\u001B[38;5;28mself\u001B[39m\u001B[38;5;241m.\u001B[39mhtml)\n\u001B[0;32m    194\u001B[0m     \u001B[38;5;28mself\u001B[39m\u001B[38;5;241m.\u001B[39mclean_doc \u001B[38;5;241m=\u001B[39m copy\u001B[38;5;241m.\u001B[39mdeepcopy(\u001B[38;5;28mself\u001B[39m\u001B[38;5;241m.\u001B[39mdoc)\n",
      "File \u001B[1;32mD:\\Code\\Anaconda\\envs\\pswd\\lib\\site-packages\\newspaper\\article.py:531\u001B[0m, in \u001B[0;36mArticle.throw_if_not_downloaded_verbose\u001B[1;34m(self)\u001B[0m\n\u001B[0;32m    529\u001B[0m     \u001B[38;5;28;01mraise\u001B[39;00m ArticleException(\u001B[38;5;124m'\u001B[39m\u001B[38;5;124mYou must `download()` an article first!\u001B[39m\u001B[38;5;124m'\u001B[39m)\n\u001B[0;32m    530\u001B[0m \u001B[38;5;28;01melif\u001B[39;00m \u001B[38;5;28mself\u001B[39m\u001B[38;5;241m.\u001B[39mdownload_state \u001B[38;5;241m==\u001B[39m ArticleDownloadState\u001B[38;5;241m.\u001B[39mFAILED_RESPONSE:\n\u001B[1;32m--> 531\u001B[0m     \u001B[38;5;28;01mraise\u001B[39;00m ArticleException(\u001B[38;5;124m'\u001B[39m\u001B[38;5;124mArticle `download()` failed with \u001B[39m\u001B[38;5;132;01m%s\u001B[39;00m\u001B[38;5;124m on URL \u001B[39m\u001B[38;5;132;01m%s\u001B[39;00m\u001B[38;5;124m'\u001B[39m \u001B[38;5;241m%\u001B[39m\n\u001B[0;32m    532\u001B[0m           (\u001B[38;5;28mself\u001B[39m\u001B[38;5;241m.\u001B[39mdownload_exception_msg, \u001B[38;5;28mself\u001B[39m\u001B[38;5;241m.\u001B[39murl))\n",
      "\u001B[1;31mArticleException\u001B[0m: Article `download()` failed with HTTPSConnectionPool(host='www.bangkokpost.com', port=443): Max retries exceeded with url: /world/2336413/taiwan-rebuffs-philippines-complaint-about-s-china-sea-live-fire-drills (Caused by ConnectTimeoutError(<urllib3.connection.HTTPSConnection object at 0x000001D875B27DC0>, 'Connection to www.bangkokpost.com timed out. (connect timeout=7)')) on URL https://www.bangkokpost.com/world/2336413/taiwan-rebuffs-philippines-complaint-about-s-china-sea-live-fire-drills"
     ]
    }
   ],
   "source": [
    "## 用Article爬取单条新闻\n",
    "from newspaper import Article\n",
    "# 目标新闻网址\n",
    "url = 'https://www.bangkokpost.com/world/2336413/taiwan-rebuffs-philippines-complaint-about-s-china-sea-live-fire-drills'\n",
    "news = Article(url, language='en')\n",
    "news.download()        # 加载网页\n",
    "news.parse()           # 解析网页\n",
    "print('题目：',news.title)       # 新闻题目\n",
    "# print('正文：\\n',news.text)      # 正文内容\n",
    "print(news.authors)     # 新闻作者\n",
    "print(news.keywords)    # 新闻关键词\n",
    "print(news.summary)     # 新闻摘要\n",
    "\n",
    "print(news.top_image) # 配图地址\n",
    "# print(news.movies)    # 视频地址\n",
    "print(news.publish_date) # 发布日期\n",
    "# print(news.html)      # 网页源代码"
   ],
   "metadata": {
    "collapsed": false,
    "pycharm": {
     "name": "#%%\n"
    }
   }
  },
  {
   "cell_type": "code",
   "execution_count": 4,
   "outputs": [
    {
     "ename": "ArticleException",
     "evalue": "Article `download()` failed with HTTPSConnectionPool(host='www.bangkokpost.com', port=443): Max retries exceeded with url: /world/2336413/taiwan-rebuffs-philippines-complaint-about-s-china-sea-live-fire-drills (Caused by ProxyError('Cannot connect to proxy.', TimeoutError('_ssl.c:980: The handshake operation timed out'))) on URL https://www.bangkokpost.com/world/2336413/taiwan-rebuffs-philippines-complaint-about-s-china-sea-live-fire-drills",
     "output_type": "error",
     "traceback": [
      "\u001B[1;31m---------------------------------------------------------------------------\u001B[0m",
      "\u001B[1;31mArticleException\u001B[0m                          Traceback (most recent call last)",
      "Input \u001B[1;32mIn [4]\u001B[0m, in \u001B[0;36m<cell line: 17>\u001B[1;34m()\u001B[0m\n\u001B[0;32m     15\u001B[0m news \u001B[38;5;241m=\u001B[39m Article(url, config\u001B[38;5;241m=\u001B[39mconfig)\n\u001B[0;32m     16\u001B[0m news\u001B[38;5;241m.\u001B[39mdownload()        \u001B[38;5;66;03m# 加载网页\u001B[39;00m\n\u001B[1;32m---> 17\u001B[0m \u001B[43mnews\u001B[49m\u001B[38;5;241;43m.\u001B[39;49m\u001B[43mparse\u001B[49m\u001B[43m(\u001B[49m\u001B[43m)\u001B[49m           \u001B[38;5;66;03m# 解析网页\u001B[39;00m\n\u001B[0;32m     18\u001B[0m \u001B[38;5;28mprint\u001B[39m(\u001B[38;5;124m'\u001B[39m\u001B[38;5;124m题目：\u001B[39m\u001B[38;5;124m'\u001B[39m,news\u001B[38;5;241m.\u001B[39mtitle)       \u001B[38;5;66;03m# 新闻题目\u001B[39;00m\n\u001B[0;32m     19\u001B[0m \u001B[38;5;66;03m# print('正文：\\n',news.text)      # 正文内容\u001B[39;00m\n",
      "File \u001B[1;32mD:\\Code\\Anaconda\\envs\\pswd\\lib\\site-packages\\newspaper\\article.py:191\u001B[0m, in \u001B[0;36mArticle.parse\u001B[1;34m(self)\u001B[0m\n\u001B[0;32m    190\u001B[0m \u001B[38;5;28;01mdef\u001B[39;00m \u001B[38;5;21mparse\u001B[39m(\u001B[38;5;28mself\u001B[39m):\n\u001B[1;32m--> 191\u001B[0m     \u001B[38;5;28;43mself\u001B[39;49m\u001B[38;5;241;43m.\u001B[39;49m\u001B[43mthrow_if_not_downloaded_verbose\u001B[49m\u001B[43m(\u001B[49m\u001B[43m)\u001B[49m\n\u001B[0;32m    193\u001B[0m     \u001B[38;5;28mself\u001B[39m\u001B[38;5;241m.\u001B[39mdoc \u001B[38;5;241m=\u001B[39m \u001B[38;5;28mself\u001B[39m\u001B[38;5;241m.\u001B[39mconfig\u001B[38;5;241m.\u001B[39mget_parser()\u001B[38;5;241m.\u001B[39mfromstring(\u001B[38;5;28mself\u001B[39m\u001B[38;5;241m.\u001B[39mhtml)\n\u001B[0;32m    194\u001B[0m     \u001B[38;5;28mself\u001B[39m\u001B[38;5;241m.\u001B[39mclean_doc \u001B[38;5;241m=\u001B[39m copy\u001B[38;5;241m.\u001B[39mdeepcopy(\u001B[38;5;28mself\u001B[39m\u001B[38;5;241m.\u001B[39mdoc)\n",
      "File \u001B[1;32mD:\\Code\\Anaconda\\envs\\pswd\\lib\\site-packages\\newspaper\\article.py:531\u001B[0m, in \u001B[0;36mArticle.throw_if_not_downloaded_verbose\u001B[1;34m(self)\u001B[0m\n\u001B[0;32m    529\u001B[0m     \u001B[38;5;28;01mraise\u001B[39;00m ArticleException(\u001B[38;5;124m'\u001B[39m\u001B[38;5;124mYou must `download()` an article first!\u001B[39m\u001B[38;5;124m'\u001B[39m)\n\u001B[0;32m    530\u001B[0m \u001B[38;5;28;01melif\u001B[39;00m \u001B[38;5;28mself\u001B[39m\u001B[38;5;241m.\u001B[39mdownload_state \u001B[38;5;241m==\u001B[39m ArticleDownloadState\u001B[38;5;241m.\u001B[39mFAILED_RESPONSE:\n\u001B[1;32m--> 531\u001B[0m     \u001B[38;5;28;01mraise\u001B[39;00m ArticleException(\u001B[38;5;124m'\u001B[39m\u001B[38;5;124mArticle `download()` failed with \u001B[39m\u001B[38;5;132;01m%s\u001B[39;00m\u001B[38;5;124m on URL \u001B[39m\u001B[38;5;132;01m%s\u001B[39;00m\u001B[38;5;124m'\u001B[39m \u001B[38;5;241m%\u001B[39m\n\u001B[0;32m    532\u001B[0m           (\u001B[38;5;28mself\u001B[39m\u001B[38;5;241m.\u001B[39mdownload_exception_msg, \u001B[38;5;28mself\u001B[39m\u001B[38;5;241m.\u001B[39murl))\n",
      "\u001B[1;31mArticleException\u001B[0m: Article `download()` failed with HTTPSConnectionPool(host='www.bangkokpost.com', port=443): Max retries exceeded with url: /world/2336413/taiwan-rebuffs-philippines-complaint-about-s-china-sea-live-fire-drills (Caused by ProxyError('Cannot connect to proxy.', TimeoutError('_ssl.c:980: The handshake operation timed out'))) on URL https://www.bangkokpost.com/world/2336413/taiwan-rebuffs-philippines-complaint-about-s-china-sea-live-fire-drills"
     ]
    }
   ],
   "source": [
    "## 用Article爬取单条新闻\n",
    "from newspaper import Article\n",
    "from newspaper.configuration import Configuration\n",
    "# add your corporate proxy information and test the connection\n",
    "PROXIES = {\n",
    "           'http':\"http://127.0.0.1:12345\",\n",
    "           'https': \"https://127.0.0.1:12345\"\n",
    "          }\n",
    "config = Configuration()\n",
    "config.proxies = PROXIES\n",
    "# 目标新闻网址\n",
    "url = 'https://www.bangkokpost.com/world/2336413/taiwan-rebuffs-philippines-complaint-about-s-china-sea-live-fire-drills'\n",
    "# url = 'https://www.bangkokpost.com/'\n",
    "# url = 'https://www.zaobao.com/news/china/story20220629-1287653'\n",
    "news = Article(url, config=config)\n",
    "news.download()        # 加载网页\n",
    "news.parse()           # 解析网页\n",
    "print('题目：',news.title)       # 新闻题目\n",
    "# print('正文：\\n',news.text)      # 正文内容\n",
    "print(news.authors)     # 新闻作者\n",
    "print(news.keywords)    # 新闻关键词\n",
    "print(news.summary)     # 新闻摘要\n",
    "\n",
    "# print(news.top_image) # 配图地址\n",
    "# print(news.movies)    # 视频地址\n",
    "# print(news.publish_date) # 发布日期\n",
    "# print(news.html)      # 网页源代码"
   ],
   "metadata": {
    "collapsed": false,
    "pycharm": {
     "name": "#%%\n"
    }
   }
  },
  {
   "cell_type": "code",
   "execution_count": 3,
   "outputs": [],
   "source": [
    "import newspaper\n",
    "url = 'https://search.bangkokpost.com/search/result?start=0&q=china&category=all&refinementFilter=&sort=newest&rows=100'      # bangkok post\n",
    "\n",
    "south_paper = newspaper.build(url, memoize_articles = False)    # 构建新闻源"
   ],
   "metadata": {
    "collapsed": false,
    "pycharm": {
     "name": "#%%\n"
    }
   }
  },
  {
   "cell_type": "code",
   "execution_count": 9,
   "outputs": [
    {
     "data": {
      "text/plain": "0"
     },
     "execution_count": 9,
     "metadata": {},
     "output_type": "execute_result"
    }
   ],
   "source": [
    "south_paper.size()"
   ],
   "metadata": {
    "collapsed": false,
    "pycharm": {
     "name": "#%%\n"
    }
   }
  },
  {
   "cell_type": "code",
   "execution_count": 4,
   "outputs": [
    {
     "name": "stdout",
     "output_type": "stream",
     "text": [
      "https://www.zaobao.com/search-result?k=%E4%B8%AD%E5%9B%BD\n",
      "https://www.zaobao.com/wencui\n",
      "https://www.zaobao.com/news\n",
      "https://www.zaobao.com/special\n",
      "https://www.zaobao.com/cvideos\n",
      "https://www.zaobao.com/finance\n",
      "https://www.zaobao.com/lifestyle\n",
      "https://www.zaobao.com/realtime\n",
      "http://stock.zaobao.com\n",
      "https://www.zaobao.com/contribute\n",
      "https://www.zaobao.com.sg\n"
     ]
    }
   ],
   "source": [
    "for category in south_paper.category_urls():\n",
    "    print(category)"
   ],
   "metadata": {
    "collapsed": false,
    "pycharm": {
     "name": "#%%\n"
    }
   }
  },
  {
   "cell_type": "code",
   "execution_count": 5,
   "outputs": [
    {
     "name": "stdout",
     "output_type": "stream",
     "text": [
      "品牌： zaobao\n",
      "描述： 新加坡、中国、亚洲和国际的即时、评论、商业、体育、生活、科技与多媒体新闻，尽在联合早报。\n"
     ]
    }
   ],
   "source": [
    "print('品牌：',south_paper.brand)  # 品牌\n",
    "print('描述：',south_paper.description) # 描述"
   ],
   "metadata": {
    "collapsed": false,
    "pycharm": {
     "name": "#%%\n"
    }
   }
  },
  {
   "cell_type": "code",
   "execution_count": 6,
   "outputs": [
    {
     "name": "stdout",
     "output_type": "stream",
     "text": [
      "https://www.zaobao.com/news/china\n",
      "https://www.zaobao.com/news/world\n",
      "https://www.zaobao.com/news/singapore\n",
      "https://www.zaobao.com/news/sea\n",
      "https://www.zaobao.com/news/sports\n",
      "https://www.zaobao.com/news/china/story20220629-1287654\n",
      "https://www.zaobao.com/news/china/story20220629-1287659\n",
      "https://www.zaobao.com/realtime/china/story20220628-1287591\n",
      "https://www.zaobao.com/news/china/story20220629-1287660\n",
      "https://www.zaobao.com/realtime/china/story20220628-1287586\n",
      "https://www.zaobao.com/finance/china/story20220629-1287652\n",
      "https://www.zaobao.com/news/china/story20220629-1287653\n",
      "https://www.zaobao.com/realtime/china/story20220629-1287747\n",
      "https://www.zaobao.com/forum/views/story20220629-1287683\n",
      "https://www.zaobao.com/realtime/china/story20220629-1287919\n",
      "https://www.zaobao.com/news/china/story20220628-1287293\n",
      "https://www.zaobao.com/news/china/story20220627-1286982\n",
      "https://www.zaobao.com/news/china/story20220627-1286988\n",
      "https://www.zaobao.com/news/china/story20220627-1286981\n",
      "https://www.zaobao.com/news/china/story20220626-1286647\n",
      "https://www.zaobao.com/news/china/story20220625-1286364\n",
      "https://www.zaobao.com/news/china/story20220624-1286035\n",
      "https://www.zaobao.com/realtime/china/story20220623-1285968\n",
      "https://www.zaobao.com/realtime/china/story20220621-1285312\n",
      "https://www.zaobao.com/wencui/social/story20220629-1287756\n",
      "https://www.zaobao.com/wencui/social/story20220629-1287755\n",
      "https://www.zaobao.com/wencui/social/story20220629-1287754\n",
      "https://www.zaobao.com/wencui/social/story20220629-1287752\n",
      "https://www.zaobao.com/wencui/political/story20220629-1287743\n",
      "https://www.zaobao.com/wencui/political/story20220629-1287746\n",
      "https://www.zaobao.com/wencui/political/story20220629-1287742\n",
      "https://www.zaobao.com/wencui/political/story20220629-1287740\n",
      "https://www.zaobao.com/wencui/political/story20220629-1287736\n",
      "https://www.zaobao.com/wencui/political/story20220629-1287735\n",
      "https://www.zaobao.com/wencui/social/story20220628-1287388\n",
      "https://www.zaobao.com/wencui/social/story20220628-1287386\n",
      "https://www.zaobao.com/wencui/social/story20220628-1287385\n",
      "https://www.zaobao.com/wencui/social/story20220628-1287380\n",
      "https://www.zaobao.com/wencui/political/story20220628-1287377\n",
      "https://www.zaobao.com/wencui/political/story20220628-1287376\n",
      "https://www.zaobao.com/wencui/political/story20220628-1287378\n",
      "https://www.zaobao.com/wencui/political/story20220628-1287375\n",
      "https://www.zaobao.com/news/china/story20220629-1287655\n",
      "https://www.zaobao.com/news/china/story20220629-1287657\n",
      "https://www.zaobao.com/news/china/story20220629-1287656\n",
      "https://www.zaobao.com/news/world/story20220629-1287640\n",
      "https://www.zaobao.com/news/world/story20220629-1287639\n",
      "https://www.zaobao.com/news/world/story20220629-1287638\n",
      "https://www.zaobao.com/news/singapore/story20220629-1287806\n",
      "https://www.zaobao.com/news/singapore/story20220629-1287801\n",
      "https://www.zaobao.com/news/singapore/story20220629-1287796\n",
      "https://www.zaobao.com/news/sea/story20220629-1287665\n",
      "https://www.zaobao.com/news/sea/story20220629-1287666\n",
      "https://www.zaobao.com/news/sea/story20220629-1287670\n",
      "https://www.zaobao.com/news/sports/story20220629-1287672\n",
      "https://www.zaobao.com/news/sports/story20220629-1287674\n",
      "https://www.zaobao.com/news/sports/story20220629-1287673\n",
      "https://www.zaobao.com/news/world/story20220629-1287643\n",
      "https://www.zaobao.com/news/world/story20220624-1286020\n",
      "https://www.zaobao.com/news/china/story20220628-1287302\n",
      "https://www.zaobao.com/news/china/story20220628-1287301\n",
      "https://www.zaobao.com/news/china/story20220628-1287297\n",
      "https://www.zaobao.com/news/china/story20220628-1287294\n",
      "https://www.zaobao.com/news/world/story20220625-1286357\n",
      "https://www.zaobao.com/news/world/story20220617-1283732\n",
      "https://www.zaobao.com/news/world/story20220616-1283440\n",
      "https://www.zaobao.com/news/world/story20220610-1281369\n",
      "https://www.zaobao.com/news/china/story20220602-1278683\n",
      "https://www.zaobao.com/news/china/story20220601-1278373\n",
      "https://www.zaobao.com/news/sea/story20220629-1287664\n",
      "https://www.zaobao.com/news/sea/story20220627-1286964\n",
      "https://www.zaobao.com/news/singapore/story20220619-1284372\n",
      "https://www.zaobao.com/news/singapore/story20220614-1282682\n",
      "https://www.zaobao.com/news/singapore/story20220611-1281706\n",
      "https://www.zaobao.com/news/sea/story20220628-1287318\n",
      "https://www.zaobao.com/news/sea/story20220627-1286966\n",
      "https://www.zaobao.com/news/sea/story20220627-1286968\n",
      "https://www.zaobao.com/realtime/china/story20220629-1287767\n",
      "https://www.zaobao.com/realtime/china/story20220624-1286274\n",
      "https://www.zaobao.com/lifestyle/familynlove/story20220629-1287906\n",
      "https://www.zaobao.com/realtime/singapore/story20220628-1287559\n",
      "https://www.zaobao.com/realtime/singapore/story20220627-1287232\n",
      "https://www.zaobao.com/lifestyle/trending/story20220627-1286598\n",
      "https://www.zaobao.com/news/world/story20220627-1286615\n",
      "https://www.zaobao.com/news/singapore/story20220627-1286280\n",
      "https://www.zaobao.com/news/singapore/story20220625-1286311\n",
      "https://www.zaobao.com/entertainment/story20220624-1286152\n",
      "https://www.zaobao.com/lifestyle/trending/story20220624-1286146\n",
      "https://www.zaobao.com/lifestyle/story20220624-1285501\n",
      "https://www.zaobao.com/entertainment/story20220623-1285961\n",
      "https://www.zaobao.com/video-series/artisans-of-life/story20220623-1285497\n",
      "https://www.zaobao.com/news/singapore/story20220622-1285630\n",
      "https://www.zaobao.com/lifestyle/familynlove/story20220622-1285618\n",
      "https://www.zaobao.com/entertainment/story20220622-1285317\n",
      "https://www.zaobao.com/news/singapore/story20220621-1285298\n",
      "https://www.zaobao.com/realtime/singapore/story20220621-1285133\n",
      "https://www.zaobao.com/entertainment/story20220621-1285119\n",
      "https://www.zaobao.com/realtime/singapore/story20220629-1287929\n",
      "https://www.zaobao.com/realtime/singapore/story20220629-1287925\n",
      "https://www.zaobao.com/realtime/singapore/story20220629-1287780\n",
      "https://www.zaobao.com/finance/china/story20220629-1287649\n",
      "https://www.zaobao.com/finance/china/story20220629-1287650\n",
      "https://www.zaobao.com/finance/world/story20220629-1287701\n",
      "https://www.zaobao.com/finance/world/story20220627-1287004\n",
      "https://www.zaobao.com/finance/world/story20220624-1286027\n",
      "https://www.zaobao.com/finance/singapore/story20220629-1287942\n",
      "https://www.zaobao.com/finance/singapore/story20220629-1287940\n",
      "https://www.zaobao.com/finance/singapore/story20220629-1287939\n",
      "https://www.zaobao.com/realtime/china/story20220615-1283322\n",
      "https://www.zaobao.com/news/singapore/story20220531-1277995\n",
      "https://www.zaobao.com/news/singapore/story20220326-1256086\n",
      "https://www.zaobao.com/lifestyle/culture/story20220629-1287759\n",
      "https://www.zaobao.com/lifestyle/culture/story20220629-1287718\n",
      "https://www.zaobao.com/lifestyle/culture/story20220629-1287719\n",
      "https://www.zaobao.com/lifestyle/columns/story20220628-1287352\n",
      "https://www.zaobao.com/lifestyle/columns/story20220628-1287351\n",
      "https://www.zaobao.com/lifestyle/columns/story20220627-1287014\n",
      "https://www.zaobao.com/lifestyle/food/story20220626-1286701\n",
      "https://www.zaobao.com/lifestyle/food/story20220625-1286407\n",
      "https://www.zaobao.com/lifestyle/food/story20220625-1286406\n",
      "https://www.zaobao.com/lifestyle/fashion-beauty/story20220624-1286074\n",
      "https://www.zaobao.com/lifestyle/fashion-beauty/story20220624-1286070\n",
      "https://www.zaobao.com/lifestyle/fashion-beauty/story20220624-1286071\n",
      "https://www.zaobao.com/lifestyle/motoring/story20220626-1286695\n",
      "https://www.zaobao.com/lifestyle/motoring/story20220626-1286693\n",
      "https://www.zaobao.com/lifestyle/motoring/story20220626-1286694\n",
      "https://www.zaobao.com/lifestyle/travel/story20220616-1283474\n",
      "https://www.zaobao.com/lifestyle/travel/story20220602-1278777\n",
      "https://www.zaobao.com/lifestyle/travel/story20220526-1276492\n",
      "https://www.zaobao.com/entertainment/story20220629-1287795\n",
      "https://www.zaobao.com/entertainment/story20220629-1287704\n",
      "https://www.zaobao.com/entertainment/story20220629-1287705\n",
      "https://www.zaobao.com/entertainment/story20220629-1287938\n",
      "https://www.zaobao.com/entertainment/story20220629-1284044\n",
      "https://www.zaobao.com/entertainment/story20220629-1287808\n",
      "https://www.zaobao.com/entertainment/story20220629-1287935\n",
      "https://www.zaobao.com/entertainment/story20220629-1287804\n",
      "https://www.zaobao.com/entertainment/story20220629-1287785\n",
      "https://www.zaobao.com/realtime/china/story20220629-1287799\n",
      "https://www.zaobao.com/realtime/china/story20220629-1287946\n",
      "https://www.zaobao.com/realtime/china/story20220629-1287793\n",
      "https://www.zaobao.com/realtime/china/story20220629-1287787\n",
      "https://www.zaobao.com/realtime/china/story20220629-1287931\n",
      "https://www.zaobao.com/realtime/china/story20220629-1287782\n",
      "https://www.zaobao.com/realtime/china/story20220629-1287924\n",
      "https://www.zaobao.com/realtime/china/story20220629-1287918\n",
      "https://www.zaobao.com/realtime/china/story20220629-1287922\n",
      "https://www.zaobao.com/realtime/world/story20220629-1287949\n",
      "https://www.zaobao.com/realtime/world/story20220629-1287944\n",
      "https://www.zaobao.com/realtime/world/story20220629-1287943\n",
      "https://www.zaobao.com/realtime/world/story20220629-1287941\n",
      "https://www.zaobao.com/realtime/world/story20220629-1287937\n",
      "https://www.zaobao.com/realtime/world/story20220629-1287934\n",
      "https://www.zaobao.com/realtime/world/story20220629-1287932\n",
      "https://www.zaobao.com/realtime/world/story20220629-1287927\n",
      "https://www.zaobao.com/realtime/world/story20220629-1287926\n",
      "https://www.zaobao.com/realtime/world/story20220629-1287923\n",
      "https://www.zaobao.com/realtime/singapore/story20220629-1287948\n",
      "https://www.zaobao.com/realtime/singapore/story20220629-1287947\n",
      "https://www.zaobao.com/realtime/singapore/story20220629-1287945\n",
      "https://www.zaobao.com/realtime/singapore/story20220629-1287936\n",
      "https://www.zaobao.com/realtime/singapore/story20220629-1287933\n",
      "https://www.zaobao.com/realtime/singapore/story20220629-1287930\n",
      "https://www.zaobao.com/realtime/singapore/story20220629-1287928\n",
      "https://www.zaobao.com/realtime/singapore/story20220629-1287917\n",
      "https://www.zaobao.com/realtime/singapore/story20220629-1287745\n",
      "https://www.zaobao.com/realtime/singapore/story20220629-1287739\n",
      "https://www.zaobao.com/realtime/singapore/story20220628-1287607\n",
      "https://www.zaobao.com/realtime/singapore/story20220628-1287583\n",
      "https://www.zaobao.com/realtime/singapore/story20220628-1287577\n",
      "https://www.zaobao.com/realtime/singapore/story20220628-1287425\n",
      "https://www.zaobao.com/realtime/singapore/story20220628-1287422\n",
      "https://www.zaobao.com.sg/news/china\n",
      "https://www.zaobao.com.sg/news/world\n",
      "https://www.zaobao.com.sg/news/singapore\n",
      "https://www.zaobao.com.sg/news/sea\n",
      "https://www.zaobao.com.sg/news/sports\n",
      "https://www.zaobao.com.sg/realtime/china/story20220629-1287946\n",
      "https://www.zaobao.com.sg/news/china/story20220629-1287654\n",
      "https://www.zaobao.com.sg/realtime/china/story20220629-1287919\n",
      "https://www.zaobao.com.sg/news/china/story20220629-1287653\n",
      "https://www.zaobao.com.sg/realtime/china/story20220629-1287747\n",
      "https://www.zaobao.com.sg/realtime/world/story20220629-1287753\n",
      "https://www.zaobao.com.sg/realtime/world/story20220629-1287733\n",
      "https://www.zaobao.com.sg/realtime/singapore/story20220629-1287913\n",
      "https://www.zaobao.com.sg/realtime/world/story20220629-1287744\n",
      "https://www.zaobao.com.sg/news/sea/story20220629-1287664\n",
      "https://www.zaobao.com.sg/realtime/world/story20220629-1287789\n",
      "https://www.zaobao.com.sg/realtime/china/story20220629-1287904\n",
      "https://www.zaobao.com.sg/news/china/story20220629-1287659\n",
      "https://www.zaobao.com.sg/finance/china/story20220629-1287652\n",
      "https://www.zaobao.com.sg/news/china/story20220629-1287660\n",
      "https://www.zaobao.com.sg/realtime/china/story20220629-1287758\n",
      "https://www.zaobao.com.sg/realtime/china/story20220629-1287770\n",
      "https://www.zaobao.com.sg/realtime/china/story20220629-1287915\n",
      "https://www.zaobao.com.sg/realtime/china/story20220629-1287903\n",
      "https://www.zaobao.com.sg/realtime/world/story20220629-1287923\n",
      "https://www.zaobao.com.sg/realtime/china/story20220629-1287799\n",
      "https://www.zaobao.com.sg/realtime/china/story20220629-1287793\n",
      "https://www.zaobao.com.sg/realtime/china/story20220629-1287787\n",
      "https://www.zaobao.com.sg/realtime/china/story20220629-1287931\n",
      "https://www.zaobao.com.sg/realtime/china/story20220629-1287782\n",
      "https://www.zaobao.com.sg/realtime/china/story20220629-1287924\n",
      "https://www.zaobao.com.sg/realtime/china/story20220629-1287918\n",
      "https://www.zaobao.com.sg/realtime/china/story20220629-1287922\n",
      "https://www.zaobao.com.sg/realtime/china/story20220629-1287907\n",
      "https://www.zaobao.com.sg/realtime/china/story20220629-1287902\n",
      "https://www.zaobao.com.sg/realtime/singapore/story20160213-581147\n",
      "https://www.zaobao.com.sg/realtime/world/story20220629-1287949\n",
      "https://www.zaobao.com.sg/realtime/world/story20220629-1287944\n",
      "https://www.zaobao.com.sg/realtime/world/story20220629-1287943\n",
      "https://www.zaobao.com.sg/realtime/world/story20220629-1287941\n",
      "https://www.zaobao.com.sg/realtime/world/story20220629-1287937\n",
      "https://www.zaobao.com.sg/realtime/world/story20220629-1287934\n",
      "https://www.zaobao.com.sg/realtime/world/story20220629-1287932\n",
      "https://www.zaobao.com.sg/realtime/world/story20220629-1287927\n",
      "https://www.zaobao.com.sg/realtime/world/story20220629-1287926\n",
      "https://www.zaobao.com.sg/realtime/world/story20220629-1287920\n",
      "https://www.zaobao.com.sg/realtime/world/story20220629-1287914\n",
      "https://www.zaobao.com.sg/realtime/world/story20220629-1287905\n",
      "https://www.zaobao.com.sg/realtime/world/story20220629-1287800\n",
      "https://www.zaobao.com.sg/realtime/singapore/story20220629-1287948\n",
      "https://www.zaobao.com.sg/realtime/singapore/story20220629-1287947\n",
      "https://www.zaobao.com.sg/realtime/singapore/story20220629-1287945\n",
      "https://www.zaobao.com.sg/realtime/singapore/story20220629-1287936\n",
      "https://www.zaobao.com.sg/realtime/singapore/story20220629-1287933\n",
      "https://www.zaobao.com.sg/realtime/singapore/story20220629-1287930\n",
      "https://www.zaobao.com.sg/realtime/singapore/story20220629-1287929\n",
      "https://www.zaobao.com.sg/realtime/singapore/story20220629-1287928\n",
      "https://www.zaobao.com.sg/realtime/singapore/story20220629-1287925\n",
      "https://www.zaobao.com.sg/realtime/singapore/story20220629-1287917\n",
      "https://www.zaobao.com.sg/realtime/singapore/story20220629-1287916\n",
      "https://www.zaobao.com.sg/realtime/singapore/story20220629-1287910\n",
      "https://www.zaobao.com.sg/realtime/singapore/story20220629-1287909\n",
      "https://www.zaobao.com.sg/realtime/singapore/story20220629-1287908\n",
      "https://interactive.zaobao.com/2020/singapore-china-30-years-diplomatic-relations/?utm_source=zbcn-homepage\n",
      "https://www.zaobao.com.sg/forum/views/story20220629-1287680\n",
      "https://www.zaobao.com.sg/forum/views/story20220629-1287684\n",
      "https://www.zaobao.com.sg/forum/views/story20220629-1287683\n",
      "https://www.zaobao.com.sg/forum/editorial/story20220629-1287679\n",
      "https://www.zaobao.com.sg/news/china/story20220628-1287300\n",
      "https://www.zaobao.com.sg/realtime/china/story20220628-1287591\n",
      "https://www.zaobao.com.sg/realtime/china/story20220627-1287240\n",
      "https://www.zaobao.com.sg/realtime/china/story20220628-1287586\n",
      "https://www.zaobao.com.sg/news/china/story20220628-1287293\n",
      "https://www.zaobao.com.sg/news/china/story20220627-1286982\n",
      "https://www.zaobao.com.sg/news/china/story20220627-1286988\n",
      "https://www.zaobao.com.sg/news/china/story20220627-1286981\n",
      "https://www.zaobao.com.sg/news/china/story20220626-1286647\n",
      "https://www.zaobao.com.sg/news/china/story20220625-1286364\n",
      "https://www.zaobao.com.sg/news/china/story20220624-1286035\n",
      "https://www.zaobao.com.sg/realtime/china/story20220623-1285968\n",
      "https://www.zaobao.com.sg/realtime/china/story20220621-1285312\n",
      "https://www.zaobao.com.sg/wencui/political/story20220629-1287743\n",
      "https://www.zaobao.com.sg/wencui/political/story20220629-1287746\n",
      "https://www.zaobao.com.sg/wencui/political/story20220629-1287742\n",
      "https://www.zaobao.com.sg/wencui/political/story20220629-1287740\n",
      "https://www.zaobao.com.sg/wencui/political/story20220629-1287736\n",
      "https://www.zaobao.com.sg/wencui/political/story20220629-1287735\n",
      "https://www.zaobao.com.sg/wencui/social/story20220629-1287756\n",
      "https://www.zaobao.com.sg/wencui/social/story20220629-1287755\n",
      "https://www.zaobao.com.sg/wencui/social/story20220629-1287754\n",
      "https://www.zaobao.com.sg/wencui/social/story20220629-1287752\n",
      "https://www.zaobao.com.sg/news/world/story20220629-1287639\n",
      "https://www.zaobao.com.sg/news/world/story20220629-1287643\n",
      "https://www.zaobao.com.sg/news/china/story20220629-1287657\n",
      "https://www.zaobao.com.sg/news/sea/story20220629-1287665\n",
      "https://www.zaobao.com.sg/news/world/story20220629-1287646\n",
      "https://www.zaobao.com.sg/news/world/story20220629-1287638\n",
      "https://www.zaobao.com.sg/news/sea/story20220629-1287666\n",
      "https://www.zaobao.com.sg/news/world/story20220628-1287451\n",
      "https://www.zaobao.com.sg/news/singapore/story20220622-1285772\n",
      "https://www.zaobao.com.sg/news/china/story20220629-1287655\n",
      "https://www.zaobao.com.sg/news/china/story20220629-1287656\n",
      "https://www.zaobao.com.sg/news/china/story20220629-1287662\n",
      "https://www.zaobao.com.sg/news/world/story20220629-1287641\n",
      "https://www.zaobao.com.sg/news/world/story20220629-1287640\n",
      "https://www.zaobao.com.sg/news/world/story20220629-1287636\n",
      "https://www.zaobao.com.sg/news/world/story20220629-1287635\n",
      "https://www.zaobao.com.sg/news/singapore/story20220629-1287806\n",
      "https://www.zaobao.com.sg/news/singapore/story20220629-1287801\n",
      "https://www.zaobao.com.sg/news/singapore/story20220629-1287796\n",
      "https://www.zaobao.com.sg/news/singapore/story20220629-1287617\n",
      "https://www.zaobao.com.sg/news/singapore/story20220629-1287622\n",
      "https://www.zaobao.com.sg/news/singapore/story20220629-1287618\n",
      "https://www.zaobao.com.sg/news/sea/story20220629-1287670\n",
      "https://www.zaobao.com.sg/news/sea/story20220629-1287669\n",
      "https://www.zaobao.com.sg/news/sea/story20220629-1287667\n",
      "https://www.zaobao.com.sg/entertainment/story20220629-1287702\n",
      "https://www.zaobao.com.sg/lifestyle/columns/story20220628-1287351\n",
      "https://www.zaobao.com.sg/lifestyle/columns/story20220628-1287352\n",
      "https://www.zaobao.com.sg/lifestyle/columns/story20220627-1287013\n",
      "https://www.zaobao.com.sg/lifestyle/columns/story20220627-1287014\n"
     ]
    },
    {
     "data": {
      "text/plain": "293"
     },
     "execution_count": 6,
     "metadata": {},
     "output_type": "execute_result"
    }
   ],
   "source": [
    "# 查看新闻源下面的所有新闻链接\n",
    "for article in south_paper.articles:\n",
    "    print(article.url)\n",
    "\n",
    "len(south_paper.articles)      # 查看新闻链接的数量，与south_paper.size()一致"
   ],
   "metadata": {
    "collapsed": false,
    "pycharm": {
     "name": "#%%\n"
    }
   }
  },
  {
   "cell_type": "code",
   "execution_count": 8,
   "outputs": [
    {
     "name": "stdout",
     "output_type": "stream",
     "text": [
      "标题： 特稿：疫情严重冲击中国基层民众生活\n",
      "正文： 台湾致理科技大学国际贸易系副教授张弘远接受本报采访时分析，由于中国大陆经济成长力道不如过去，通过就业机会、外出务工改善生活的“结构式扶贫”渠道被阻挡了；而历经中美贸易战、冠病疫情后，政府财政更超出基本负荷，利用社会福利、国家预算的扶贫也出现力有未逮之处。\n",
      "\n",
      "他对本报坦言，日子越来越难过，种植成本高，游客越来越少，“大家都不那么舍得花钱”。\n",
      "\n",
      "与早几年相比，中国民众近两年的消费意愿明显降低。采摘园内的水果价格通常比市场价高出一倍左右。小林说，不少人在园子里转了一圈，最终两手空空出来，或者只让孩子象征性地摘上一两串。\n",
      "\n",
      "随着疫情逐渐放缓，中国5月失业率虽回落至5.9%，较4月减0.2个百分点，仍高于政府要求把全年失业率控制在5.5%以下的目标。\n",
      "\n",
      "高度依赖家庭游客的亲子农家乐，在疫情期间生意骤减，而水果有时令性，成熟之后只能设法迅速以低价出售。如果找不到销售渠道，就只能眼睁睁地看着水果成熟腐烂。\n",
      "\n",
      "他说，许多同行亏损严重只能转行，“有的负债严重，只能去收废品”。虽然地方政府有辅导转型其他养殖项目，但只有少部分同行转型养殖药用蛇类，而且相较过去食用蛇的需求量也明显减少。\n",
      "\n",
      "小林说，因为地段缘故，他的采摘园每亩地每年的租地成本近5000元，比普通水果种植用地高出10倍左右，再加上两名工人的日常薪金支出，这两年他一直是入不敷出。\n",
      "\n",
      "小林在广州白云区太和镇经营的水果采摘园，靠近当地一个森林公园，因为看好亲子农家乐市场，他在八年前签下合约，把十来亩地改成水果采摘园，以种植葡萄、香瓜为主，从搭棚、施肥到剪枝，事事亲力亲为。熬过头几年，采摘园慢慢有了起色，不料又碰上疫情来袭。\n",
      "\n",
      "广西野生动物养殖户 面临转型问题\n",
      "\n",
      "因此，他认为，当前“精准扶贫”能保的只有绝对贫穷的一块，而农村因为有亲族力量、自然村里认同，矛盾不会这么明显，反而是城市的“相对贫穷”有明显的身分、机会不对等，更容易造成社会排除效应，激化成为社会矛盾，这会是官方当前最关注的焦点。\n",
      "\n",
      "城市之外，农村、乡村的经济也同样受疫情冲击。\n",
      "\n",
      "年近50岁的陈大姐来自四川，到北京从事保洁工作已有20多年。由于公司承揽公家单位的清洁，她前阵子虽因疫情封控不能上班，倒还能领到全额工资。但她的孩子就没那么幸运。\n",
      "\n",
      "之前在广西从事蛇类养殖业的何老板接受本报采访时说，就他所知，疫情前每天批发到广州的蛇类可达数十吨。但疫情后，相关禁令出台，蛇类养殖被禁止，不少人血本无归，他自己就有110万左右的呆账无法收回。\n",
      "\n",
      "他也提到，今年的中央财政衔接推进乡村振兴补助资金用于产业的比重要达到55%以上，重点支持联农带农富农产业发展。\n",
      "\n",
      "过去几周，网上陆续传出江苏、浙江和上海成立公务员降薪办公室，落实公务员降薪规定。这显示疫情对中国经济冲击之大，连政府部门的“铁饭碗”都受影响，更遑论务工、务农的基层民众。\n",
      "\n",
      "她告诉《联合早报》，她从2019年起用积蓄在老家盖房；后来儿子计划结婚，也要在老家买房，她便协助支付头期款，之后由儿子每月偿付贷款。但在成都工作的儿子今年因为疫情收入锐减，买房贷款只能靠她缴纳。\n",
      "\n",
      "疫情对脱贫人口稳岗就业压力明显加大\n",
      "\n",
      "不过，也有部分果园因为被政府征收，收入有了保障。在广州海珠区仑头村北方人葡萄采摘园帮忙种果树看果园的鹿师傅说，过去这段时间果园确实没什么人来，很多果子就这样在地里烂掉。但没有客人也不影响他的生活，每月拿工资，旱涝保收，有人来摘果子就收钱，没有也罢。\n",
      "\n",
      "过去半年，中国经济受疫情重挫，中国人民大学和中诚信国际主办的中国宏观经济论坛上周六发表的报告，便预测上半年中国实际GDP增速为2.7%。\n",
      "\n",
      "小林的老家在广东湛江，因为家乡的农业用地成本要低得多，他已在考虑回老家发展。他说，不知道还能在广州撑多久。\n",
      "\n",
      "另一方面，2020年冠病疫情暴发后，中国全国人大常委会表决通过关于全面禁止非法野生动物交易、革除滥食野生动物陋习等决定，过去以人工繁育陆生野生动物为重点产业的广西，这两年来也面临养殖户转型问题。\n",
      "\n",
      "“（儿子）现在一个月工资不到两三千元（人民币，下同，约419至622新元），付房租、生活费都不够，哪还付得了贷款？只能我给他撑着了。”\n",
      "\n",
      "陈大姐还提到，这两年听到不少贷款买房的务工人员，因为疫情关系缴不出贷款，而她现在一边有盖房完工的款项要付，一边还要缴儿子的贷款。“真是蜡烛两头烧，但还是得撑着，难不成眼睁睁看着房子被银行收走？”\n",
      "\n",
      "“疫情第一年亏了不少，第二年勉强收回地租，今年看这个情形，一点也不乐观。”他指出，今年1月到3月，中国南方气候干旱，4月到6月又暴雨频发，这对农作物生长有极大影响。而且，疫情一直反反复复，即便是周边短途游，很多人也非常谨慎。\n",
      "\n",
      "这些例子都说明，过去两年的疫情对中国扶贫、乡村振兴的冲击相当大。过去一个月来，官方也接连提到疫情对脱贫人口稳岗就业压力、挑战明显加大、增多。\n",
      "\n",
      "国家乡村振兴局副局长洪天云前天也在中共中央宣传部新闻发布会上宣布，接下来将强化防止返贫监测帮扶，深入开展排查，及时将有返贫致贫风险的农户识别为防止返贫监测对象，同时强化产业帮扶、项目实施和资金支出，以及社会帮扶和驻村帮扶等。\n",
      "\n",
      "过去几周，网上陆续传出江苏、浙江和上海成立公务员降薪办公室，落实公务员降薪规定。这显示疫情对中国经济冲击之大，连政府部门的“铁饭碗”都受影响，更遑论务工、务农的基层民众。\n",
      "\n",
      "中国疫情近期逐渐放缓，但经济状况仍未见到明显起色，甚至传出多地将调降公务员薪资。在这种状况下，基层民众的生活所受的冲击可想而知。疫情期间停工，使得进城务工人员的经济重担加剧；仰赖观光、农作物销售的农村人员，也同样面临收入锐减的困境。\n",
      "\n",
      "中国国家乡村振兴局局长刘焕鑫6月初先是提出，要确保完成今年全国脱贫人口务工就业规模稳定在3000万人以上的目标任务，这是最基本要求，也是必须守住的“底线”，并要坚决防止因就业不稳出现规模性返贫。\n"
     ]
    }
   ],
   "source": [
    "one_article = south_paper.articles[5]       # 选择第四条新闻链接\n",
    "one_article.download()                      # 下载网页\n",
    "one_article.parse()                         # 解析网页\n",
    "print(\"标题：\",one_article.title)\n",
    "print(\"正文：\",one_article.text)"
   ],
   "metadata": {
    "collapsed": false,
    "pycharm": {
     "name": "#%%\n"
    }
   }
  },
  {
   "cell_type": "code",
   "execution_count": null,
   "outputs": [],
   "source": [
    "import pandas as pd         # 导入pandas库\n",
    "news_title = []\n",
    "news_text = []\n",
    "news = south_paper.articles\n",
    "for i in range(len(news)):    # 以新闻链接的长度为循环次数\n",
    "    paper = news[i]\n",
    "    try :\n",
    "        paper.download()\n",
    "        paper.parse()\n",
    "        news_title.append(paper.title)     # 将新闻题目以列表形式逐一储存\n",
    "        news_text.append(paper.text)       # 将新闻正文以列表形式逐一储存\n",
    "        print('success:',i)\n",
    "    except:\n",
    "        news_title.append('NULL')          # 如果无法访问，以NULL替代\n",
    "        news_text.append('NULL')\n",
    "        print(i)\n",
    "        print('fail:',i)\n",
    "        continue\n",
    "# 建立数据表存储爬取的新闻信息\n",
    "south_paper_data = pd.DataFrame({'title':news_title,'text':news_text})"
   ],
   "metadata": {
    "collapsed": false,
    "pycharm": {
     "name": "#%%\n",
     "is_executing": true
    }
   }
  },
  {
   "cell_type": "code",
   "execution_count": null,
   "outputs": [],
   "source": [
    "south_paper_data"
   ],
   "metadata": {
    "collapsed": false,
    "pycharm": {
     "name": "#%%\n"
    }
   }
  }
 ],
 "metadata": {
  "kernelspec": {
   "display_name": "Python 3",
   "language": "python",
   "name": "python3"
  },
  "language_info": {
   "codemirror_mode": {
    "name": "ipython",
    "version": 2
   },
   "file_extension": ".py",
   "mimetype": "text/x-python",
   "name": "python",
   "nbconvert_exporter": "python",
   "pygments_lexer": "ipython2",
   "version": "2.7.6"
  }
 },
 "nbformat": 4,
 "nbformat_minor": 0
}