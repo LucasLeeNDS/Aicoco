{
 "cells": [
  {
   "cell_type": "code",
   "execution_count": 1,
   "metadata": {
    "collapsed": true,
    "pycharm": {
     "name": "#%%\n"
    }
   },
   "outputs": [
    {
     "name": "stdout",
     "output_type": "stream",
     "text": [
      "['计算之魂 : 计算科学品位和认知进阶\\n', '吴军 / 人民邮电出版社 / 2021-11 / 109\\n', ' 9.3 (113人评价)\\n', '对计算机科学的掌握程度，决定了一个计算机行业从业者能走多远。在本书中，作者将人文历史与计算机科学相结合，通过一些具体的例题，分10个主题系统地讲解了计算机科...\\n', '\\n', '纸质版 91.20元\\n', '\\n', '数据密集型应用系统设计\\n', 'Martin Kleppmann / 赵军平、李三平、吕云松、耿煜 / 中国电力出版社 / 2018-9-1 / 128\\n', ' 9.7 (1133人评价)\\n', '全书分为三大部分： 第一部分，主要讨论有关增强数据密集型应用系统所需的若干基本原则。首先开篇第1章即瞄准目标：可靠性、可扩展性与可维护性，如何认识这些问题以...\\n', '\\n', '纸质版 96.00元\\n', '\\n', 'Python编程 : 从入门到实践（第2版）\\n', '[美]埃里克·马瑟斯（Eric Matthes） / 袁国忠 / 人民邮电出版社 / 2020-10 / 89\\n', ' 9.2 (779人评价)\\n', '本书是针对所有层次Python读者而作的Python入门书。全书分两部分：第一部分介绍用Python编程所必须了解的基本概念，包括Matplotlib等强大...\\n', '\\n', '纸质版 74.70元\\n', '去看电子版\\n', '\\n', '黑客与画家 : 硅谷创业之父Paul Graham文集\\n', '[美] Paul Graham / 阮一峰 / 人民邮电出版社 / 2011-4 / 49.00元\\n', ' 8.7 (21403人评价)\\n', '本书是硅谷创业之父Paul Graham 的文集，主要介绍黑客即优秀程序员的爱好和动机，讨论黑客成长、黑客对世界的贡献以及编程语言和黑客工作方法等所有对计算...\\n', '\\n', '纸质版 49.20元\\n', '去看电子版\\n', '\\n', '编码 : 隐匿在计算机软硬件背后的语言\\n', '[美] Charles Petzold / 左飞、薛佟佟 / 电子工业出版社 / 2010 / 55.00元\\n', ' 9.3 (4459人评价)\\n', '本书讲述的是计算机工作原理。作者用丰富的想象和清晰的笔墨将看似繁杂的理论阐述得通俗易懂，你丝毫不会感到枯燥和生硬。更重要的是，你会因此而获得对计算机工作原理...\\n', '\\n', '纸质版 46.10元\\n', '\\n', '逐梦旅程：Windows游戏编程之从零开始\\n', '毛星云 / 清华大学出版社 / 2013-9-16 / 98.00元\\n', ' 8.7 (65人评价)\\n', '端游开发是目前最热的职业，报酬丰厚且能实现自己的游戏梦想。作者历经一年时间，编写了这本详细讲解Windows游戏开发的入门图书。 《逐梦旅程：Windows...\\n', '\\n', '纸质版 83.30元\\n', '\\n', '深入理解计算机系统（原书第3版）\\n', \"Randal E.Bryant、David O'Hallaron / 龚奕利、贺莲 / 机械工业出版社 / 2016-11 / 139.00元\\n\", ' 9.8 (1760人评价)\\n', '和第2版相比，本版内容上*大的变化是，从以IA32和x86-64为基础转变为完全以x86-64为基础。主要更新如下： 基于x86-64，大量地重写代码，首次...\\n', '\\n', '在豆瓣购买\\n', '\\n', '流畅的Python\\n', '[巴西] Luciano Ramalho / 安道、吴珂 / 人民邮电出版社 / 2017-5-15 / 139元\\n', ' 9.4 (991人评价)\\n', '【技术大咖推荐】 “很荣幸担任这本优秀图书的技术审校。这本书能帮助很多中级Python程序员掌握这门语言，我也从中学到了相当多的知识！”——Alex Mar...\\n', '\\n', '纸质版 116.00元\\n', '\\n', '代码随想录——跟着Carl学算法\\n', '孙秀洋 / 电子工业出版社 / 2021-12 / 138\\n', ' 7.8 (117人评价)\\n', '《代码随想录——跟着Carl学算法》归纳了程序员面试中的经典算法题，并按照由浅入深、循序渐进的顺序讲解。 《代码随想录——跟着Carl学算法》首先讲解程序员...\\n', '\\n', '纸质版 69.00元\\n', '\\n', '重构（第2版） : 改善既有代码的设计\\n', '[美] Martin Fowler / 熊节、林从羽 / 人民邮电出版社 / 2019-3 / 168.00元\\n', ' 9.1 (293人评价)\\n', '本书是经典著作《重构》出版20年后的更新版。书中清晰揭示了重构的过程，解释了重构的原理和实践方式，并给出了何时以及何地应该开始挖掘代码以求改善。书中给出了6...\\n', '\\n', '纸质版 118.50元\\n', '\\n', '程序员修炼之道（第2版） : 通向务实的最高境界\\n', '[美] David Thomas、[美] Andrew Hunt / 云风 / 电子工业出版社 / 2020-4-1 / 89.00元\\n', ' 9.1 (497人评价)\\n', '本书之所以在全球范围内广泛传播，被一代代开发者奉为圭臬，盖因它可以创造出真正的价值：或编写出更好的软件，或探究出编程的本质，而所有收获均不依赖于特定语言、框...\\n', '\\n', '在豆瓣购买\\n', '\\n', '计算机程序的构造和解释(原书第2版)\\n', '[美] Harold Abelson、[美] Gerald Jay Sussman、[美] Julie Sussman / 裘宗燕 / 机械工业出版社 / 2004-2 / 45.00元\\n', ' 9.5 (2553人评价)\\n', '《计算机程序的构造和解释》成型于美国麻省理工学院（MIT）多年使用的一本教材，1984年出版，1996年修订为第二版。在过去的二十多年里，该书对于计算机科学...\\n', '\\n', '纸质版 34.90元\\n', '\\n', 'Python编程 : 从入门到实践\\n', '[美] 埃里克·马瑟斯 / 袁国忠 / 人民邮电出版社 / 2016-7-1 / 89.00元\\n', ' 9.1 (3800人评价)\\n', '本书是一本针对所有层次的Python 读者而作的Python 入门书。全书分两部分：第一部分介绍用Python 编程所必须了解的基本概念，包括matplot...\\n', '\\n', '纸质版 72.70元\\n', '去看电子版\\n', '\\n', 'Python编程快速上手（第2版） : 让繁琐工作自动化\\n', '[美] Al Sweigart / 王海鹏 / 人民邮电出版社 / 2021-3-1 / 89.00元\\n', ' 9.2 (98人评价)\\n', '本书是一本面向初学者的Python编程实用指南。本书不仅介绍了Python语言的基础知识，而且通过案例实践教读者如何使用这些知识和技能。本书的第一部分介绍了...\\n', '\\n', '纸质版 62.80元\\n', '去看电子版\\n', '\\n', '深入理解计算机系统（原书第2版）\\n', \"[美] Randal E.Bryant、[美] David O' Hallaron / 龚奕利、雷迎春 / 机械工业出版社 / 2011-1-1 / 99.00元\\n\", ' 9.7 (2940人评价)\\n', '本书从程序员的视角详细阐述计算机系统的本质概念，并展示这些概念如何实实在在地影响应用程序的正确性、性能和实用性。全书共12章，主要内容包括信息的表示和处理、...\\n', '\\n', '纸质版 81.70元\\n', '\\n', '机器学习实战（原书第2版） : 基于Scikit-Learn、Keras和TensorFlow\\n', '[法] Aurélien Géron / 宋能辉、李娴 / 机械工业出版社 / 2020-10-1 / 149.00元\\n', ' 9.9 (198人评价)\\n', '这本机器学习畅销书基于TensorFlow 2和Scikit-Learn的新版本进行了全面更新，通过具体的示例、非常少的理论和可用于生产环境的Python框...\\n', '\\n', '纸质版 122.90元\\n', '\\n', 'Python深度学习\\n', '[美] 弗朗索瓦•肖莱 / 张亮 / 人民邮电出版社 / 2018-8 / 119.00元\\n', ' 9.5 (904人评价)\\n', '本书由Keras之父、现任Google人工智能研究员的弗朗索瓦•肖莱（François Chollet）执笔，详尽介绍了用Python和Keras进行深度学...\\n', '\\n', '纸质版 99.60元\\n', '\\n', 'Java核心技术·卷 I（原书第11版） : 基础知识\\n', '[美] 凯 S.霍斯特曼（Cay S.Horstmann） / 林琪、苏钰涵 / 机械工业出版社 / 2019-11-25 / 149元\\n', ' 9.4 (212人评价)\\n', '本书由拥有20多年教学与研究经验的资深Java技术专家撰写（获Jolt大奖），是程序员的优选Java指南。本版针对Java SE 9、10和 11全面更新。...\\n', '\\n', '纸质版 122.90元\\n', '\\n', '架构整洁之道\\n', '【美】Robert C. Martin（罗伯特 C. 马丁） / 电子工业出版社 / 2018-9 / 99.00元\\n', ' 8.7 (646人评价)\\n', '《架构整洁之道》是创造“Clean神话”的Bob大叔在架构领域的登峰之作，围绕“架构整洁”这一重要导向，系统地剖析其缘起、内涵及应用场景，涵盖软件研发完整过...\\n', '\\n', '在豆瓣购买\\n', '去看电子版\\n', '\\n', 'JavaScript百炼成仙\\n', '杨逸飞 / 清华大学出版社 / 2021-6-1 / 66.00元\\n', ' 7.7 (65人评价)\\n', '这是一本讲解JavaScript编程语言的技术书籍，只不过，本书采用了一种全新的写作手法。如果你厌倦了厚厚的、如同字典般的编程书籍，不妨尝试一下新的口味！通...']\n"
     ]
    }
   ],
   "source": [
    "f = open('data.txt','r',encoding='utf-8')\n",
    "text_data = f.readlines()\n",
    "print(text_data)\n",
    "f.close()"
   ]
  },
  {
   "cell_type": "code",
   "execution_count": 2,
   "outputs": [
    {
     "data": {
      "text/plain": "142"
     },
     "execution_count": 2,
     "metadata": {},
     "output_type": "execute_result"
    }
   ],
   "source": [
    "len(text_data) #行数"
   ],
   "metadata": {
    "collapsed": false,
    "pycharm": {
     "name": "#%%\n"
    }
   }
  },
  {
   "cell_type": "code",
   "execution_count": 3,
   "outputs": [
    {
     "data": {
      "text/plain": "[0, 1, 2, 3, 4, 5, 6, 7, 8, 9]"
     },
     "execution_count": 3,
     "metadata": {},
     "output_type": "execute_result"
    }
   ],
   "source": [
    "list(range(10))"
   ],
   "metadata": {
    "collapsed": false,
    "pycharm": {
     "name": "#%%\n"
    }
   }
  },
  {
   "cell_type": "code",
   "execution_count": 4,
   "outputs": [
    {
     "name": "stdout",
     "output_type": "stream",
     "text": [
      "计算之魂 : 计算科学品位和认知进阶\n",
      "数据密集型应用系统设计\n",
      "Python编程 : 从入门到实践（第2版）\n",
      "黑客与画家 : 硅谷创业之父Paul Graham文集\n",
      "编码 : 隐匿在计算机软硬件背后的语言\n",
      "逐梦旅程：Windows游戏编程之从零开始\n",
      "深入理解计算机系统（原书第3版）\n",
      "流畅的Python\n",
      "代码随想录——跟着Carl学算法\n",
      "重构（第2版） : 改善既有代码的设计\n",
      "程序员修炼之道（第2版） : 通向务实的最高境界\n",
      "计算机程序的构造和解释(原书第2版)\n",
      "Python编程 : 从入门到实践\n",
      "Python编程快速上手（第2版） : 让繁琐工作自动化\n",
      "深入理解计算机系统（原书第2版）\n",
      "机器学习实战（原书第2版） : 基于Scikit-Learn、Keras和TensorFlow\n",
      "Python深度学习\n",
      "Java核心技术·卷 I（原书第11版） : 基础知识\n",
      "架构整洁之道\n",
      "JavaScript百炼成仙\n"
     ]
    }
   ],
   "source": [
    "for index in range(len(text_data)-3):\n",
    "    if len(text_data[index].strip()) > 0 \\\n",
    "        and len(text_data[index+1].strip()) > 0 \\\n",
    "        and len(text_data[index+2].strip()) > 0 \\\n",
    "        and len(text_data[index+3].strip()) > 0 :\n",
    "        print(text_data[index].strip())"
   ],
   "metadata": {
    "collapsed": false,
    "pycharm": {
     "name": "#%%\n"
    }
   }
  },
  {
   "cell_type": "code",
   "execution_count": 5,
   "outputs": [],
   "source": [
    "# text_data[index]"
   ],
   "metadata": {
    "collapsed": false,
    "pycharm": {
     "name": "#%%\n"
    }
   }
  },
  {
   "cell_type": "code",
   "execution_count": 6,
   "outputs": [],
   "source": [],
   "metadata": {
    "collapsed": false,
    "pycharm": {
     "name": "#%%\n"
    }
   }
  },
  {
   "cell_type": "code",
   "execution_count": 31,
   "outputs": [
    {
     "data": {
      "text/plain": "<IPython.core.display.HTML object>",
      "text/html": "<h1>China</h1>"
     },
     "execution_count": 31,
     "metadata": {},
     "output_type": "execute_result"
    }
   ],
   "source": [
    "from IPython.core.display import HTML\n",
    "from IPython.display import display\n",
    "HTML('<h1>China</h1>')"
   ],
   "metadata": {
    "collapsed": false,
    "pycharm": {
     "name": "#%%\n"
    }
   }
  },
  {
   "cell_type": "code",
   "execution_count": 8,
   "outputs": [
    {
     "data": {
      "text/plain": "<IPython.core.display.HTML object>",
      "text/html": "<h1>China</h1>\n"
     },
     "metadata": {},
     "output_type": "display_data"
    }
   ],
   "source": [
    "%%html\n",
    "<h1>China</h1>"
   ],
   "metadata": {
    "collapsed": false,
    "pycharm": {
     "name": "#%%\n"
    }
   }
  },
  {
   "cell_type": "code",
   "execution_count": 9,
   "outputs": [
    {
     "data": {
      "text/plain": "<IPython.core.display.HTML object>",
      "text/html": "<a href=\"http://www.baidu.com\">Baidu主页</a>\n"
     },
     "metadata": {},
     "output_type": "display_data"
    }
   ],
   "source": [
    "%%html\n",
    "<a href=\"http://www.baidu.com\">Baidu主页</a>"
   ],
   "metadata": {
    "collapsed": false,
    "pycharm": {
     "name": "#%%\n"
    }
   }
  },
  {
   "cell_type": "code",
   "execution_count": 10,
   "outputs": [
    {
     "data": {
      "text/plain": "<IPython.core.display.HTML object>",
      "text/html": "<p>B对计算机科学的掌握程度，决定了一个计算机行业从业者能走多远。在本书中，作者将人文历史与计算机科学相结合，通过一些具体的例题，分10个主题系统地讲解了计算机科...</p>\n"
     },
     "metadata": {},
     "output_type": "display_data"
    }
   ],
   "source": [
    "%%html\n",
    "<p>B对计算机科学的掌握程度，决定了一个计算机行业从业者能走多远。在本书中，作者将人文历史与计算机科学相结合，通过一些具体的例题，分10个主题系统地讲解了计算机科...</p>"
   ],
   "metadata": {
    "collapsed": false,
    "pycharm": {
     "name": "#%%\n"
    }
   }
  },
  {
   "cell_type": "code",
   "execution_count": 11,
   "outputs": [
    {
     "data": {
      "text/plain": "<IPython.core.display.HTML object>",
      "text/html": "<img src='https://img1.doubanio.com/view/photo/albumcover/public/p2623486479.webp'>\n"
     },
     "metadata": {},
     "output_type": "display_data"
    }
   ],
   "source": [
    "%%html\n",
    "<img src='https://img1.doubanio.com/view/photo/albumcover/public/p2623486479.webp'>"
   ],
   "metadata": {
    "collapsed": false,
    "pycharm": {
     "name": "#%%\n"
    }
   }
  },
  {
   "cell_type": "code",
   "execution_count": 12,
   "outputs": [
    {
     "data": {
      "text/plain": "<IPython.core.display.HTML object>",
      "text/html": "<!DOCTYPE html>\n<html>\n    <head>\n        <title>标题111</title>\n    </head>\n    <body>\n        <title>标题111</title>\n        <h1>China</h1>\n        <a href=\"http://www.baidu.com\">Baidu主页</a>\n        <img src='https://img3.doubanio.com/view/subject/s/public/s34032260.jpg'>\n        <p>B对计算机科学的掌握程度，决定了一个计算机行业从业者能走多远。在本书中，作者将人文历史与计算机科学相结合，通过一些具体的例题，分10个主题系统地讲解了计算机科...</p>\n    </body>\n</html>\n"
     },
     "metadata": {},
     "output_type": "display_data"
    }
   ],
   "source": [
    "%%html\n",
    "<!DOCTYPE html>\n",
    "<html>\n",
    "    <head>\n",
    "        <title>标题111</title>\n",
    "    </head>\n",
    "    <body>\n",
    "        <title>标题111</title>\n",
    "        <h1>China</h1>\n",
    "        <a href=\"http://www.baidu.com\">Baidu主页</a>\n",
    "        <img src='https://img3.doubanio.com/view/subject/s/public/s34032260.jpg'>\n",
    "        <p>B对计算机科学的掌握程度，决定了一个计算机行业从业者能走多远。在本书中，作者将人文历史与计算机科学相结合，通过一些具体的例题，分10个主题系统地讲解了计算机科...</p>\n",
    "    </body>\n",
    "</html>"
   ],
   "metadata": {
    "collapsed": false,
    "pycharm": {
     "name": "#%%\n"
    }
   }
  },
  {
   "cell_type": "code",
   "execution_count": 1,
   "outputs": [],
   "source": [
    "import requests\n",
    "\n",
    "r = requests.get('https://book.douban.com/tag/%E7%BC%96%E7%A8%8B')"
   ],
   "metadata": {
    "collapsed": false,
    "pycharm": {
     "name": "#%%\n"
    }
   }
  },
  {
   "cell_type": "code",
   "execution_count": 2,
   "outputs": [
    {
     "data": {
      "text/plain": "418"
     },
     "execution_count": 2,
     "metadata": {},
     "output_type": "execute_result"
    }
   ],
   "source": [
    "r.status_code"
   ],
   "metadata": {
    "collapsed": false,
    "pycharm": {
     "name": "#%%\n"
    }
   }
  },
  {
   "cell_type": "code",
   "execution_count": 15,
   "outputs": [
    {
     "data": {
      "text/plain": "{'Date': 'Fri, 18 Mar 2022 04:00:19 GMT', 'Content-Length': '0', 'Connection': 'keep-alive', 'Keep-Alive': 'timeout=30', 'Server': 'dae', 'Strict-Transport-Security': 'max-age=15552000', 'X-Content-Type-Options': 'nosniff'}"
     },
     "execution_count": 15,
     "metadata": {},
     "output_type": "execute_result"
    }
   ],
   "source": [
    "r.headers"
   ],
   "metadata": {
    "collapsed": false,
    "pycharm": {
     "name": "#%%\n"
    }
   }
  },
  {
   "cell_type": "code",
   "execution_count": 16,
   "outputs": [
    {
     "data": {
      "text/plain": "''"
     },
     "execution_count": 16,
     "metadata": {},
     "output_type": "execute_result"
    }
   ],
   "source": [
    "r.text"
   ],
   "metadata": {
    "collapsed": false,
    "pycharm": {
     "name": "#%%\n"
    }
   }
  },
  {
   "cell_type": "code",
   "execution_count": 17,
   "outputs": [
    {
     "name": "stdout",
     "output_type": "stream",
     "text": [
      "200\n"
     ]
    }
   ],
   "source": [
    "import requests\n",
    "from requests.structures import CaseInsensitiveDict\n",
    "from IPython.core.display import HTML\n",
    "\n",
    "url = \"https://book.douban.com/tag/%E7%BC%96%E7%A8%8B\"\n",
    "\n",
    "headers = CaseInsensitiveDict()\n",
    "\n",
    "headers[\"User-Agent\"] = \"Mozilla/5.0 (Windows NT 10.0; Win64; x64) AppleWebKit/537.36 (KHTML, like Gecko) Chrome/99.0.4844.51 Safari/537.36 Edg/99.0.1150.39\"\n",
    "headers[\"Accept\"] = \"text/html,application/xhtml+xml,application/xml;q=0.9,image/webp,image/apng,*/*;q=0.8,application/signed-exchange;v=b3;q=0.9\"\n",
    "\n",
    "headers[\"Referer\"] = \"https://book.douban.com/\"\n",
    "\n",
    "\n",
    "\n",
    "resp = requests.get(url, headers=headers)\n",
    "\n",
    "print(resp.status_code)\n"
   ],
   "metadata": {
    "collapsed": false,
    "pycharm": {
     "name": "#%%\n"
    }
   }
  },
  {
   "cell_type": "code",
   "execution_count": 18,
   "outputs": [],
   "source": [
    "content = resp.text"
   ],
   "metadata": {
    "collapsed": false,
    "pycharm": {
     "name": "#%%\n"
    }
   }
  },
  {
   "cell_type": "code",
   "execution_count": 19,
   "outputs": [],
   "source": [
    "from lxml import etree\n"
   ],
   "metadata": {
    "collapsed": false,
    "pycharm": {
     "name": "#%%\n"
    }
   }
  },
  {
   "cell_type": "code",
   "execution_count": 20,
   "outputs": [],
   "source": [
    "content = resp.text\n",
    "sel = etree.HTML(content)"
   ],
   "metadata": {
    "collapsed": false,
    "pycharm": {
     "name": "#%%\n"
    }
   }
  },
  {
   "cell_type": "code",
   "execution_count": 21,
   "outputs": [
    {
     "data": {
      "text/plain": "<Element html at 0x200de498080>"
     },
     "execution_count": 21,
     "metadata": {},
     "output_type": "execute_result"
    }
   ],
   "source": [
    "sel"
   ],
   "metadata": {
    "collapsed": false,
    "pycharm": {
     "name": "#%%\n"
    }
   }
  },
  {
   "cell_type": "code",
   "execution_count": 22,
   "outputs": [
    {
     "name": "stdout",
     "output_type": "stream",
     "text": [
      "计算之魂:计算科学品位和认知进阶\n",
      "数据密集型应用系统设计\n",
      "Python编程:从入门到实践（第2版）\n",
      "黑客与画家:硅谷创业之父PaulGraham文集\n",
      "编码:隐匿在计算机软硬件背后的语言\n",
      "逐梦旅程：Windows游戏编程之从零开始\n",
      "深入理解计算机系统（原书第3版）\n",
      "流畅的Python\n",
      "代码随想录——跟着Carl学算法\n",
      "重构（第2版）:改善既有代码的设计\n",
      "程序员修炼之道（第2版）:通向务实的最高境界\n",
      "计算机程序的构造和解释(原书第2版)\n",
      "Python编程:从入门到实践\n",
      "Python编程快速上手（第2版）:让繁琐工作自动化\n",
      "深入理解计算机系统（原书第2版）\n",
      "机器学习实战（原书第2版）:基于Scikit-Learn、Keras和TensorFlow\n",
      "Python深度学习\n",
      "Java核心技术·卷I（原书第11版）:基础知识\n",
      "架构整洁之道\n",
      "JavaScript百炼成仙\n"
     ]
    }
   ],
   "source": [
    "for elem in sel.xpath('//h2/a'):\n",
    "    print(''.join(elem.itertext()).replace(' ','').replace('\\n',''))"
   ],
   "metadata": {
    "collapsed": false,
    "pycharm": {
     "name": "#%%\n"
    }
   }
  },
  {
   "cell_type": "code",
   "execution_count": 23,
   "outputs": [
    {
     "name": "stdout",
     "output_type": "stream",
     "text": [
      "85.9\n",
      "90.4\n",
      "74.7\n",
      "58.4\n",
      "46.1\n",
      "83.3\n",
      "116.0\n",
      "69.0\n",
      "151.2\n",
      "34.9\n",
      "72.7\n",
      "74.5\n",
      "81.7\n",
      "122.9\n",
      "99.6\n",
      "122.9\n",
      "55.6\n"
     ]
    }
   ],
   "source": [
    "for elem in sel.xpath('//span[@class=\"buy-info\"]/a/text()'):\n",
    "    print(float(elem.strip()[3:-1]))"
   ],
   "metadata": {
    "collapsed": false,
    "pycharm": {
     "name": "#%%\n"
    }
   }
  },
  {
   "cell_type": "code",
   "execution_count": 24,
   "outputs": [],
   "source": [
    "s = '//li[@class=\"subject-item\"]'"
   ],
   "metadata": {
    "collapsed": false,
    "pycharm": {
     "name": "#%%\n"
    }
   }
  },
  {
   "cell_type": "code",
   "execution_count": 14,
   "outputs": [
    {
     "name": "stdout",
     "output_type": "stream",
     "text": [
      "计算之魂:计算科学品位和认知进阶 -1\n",
      "数据密集型应用系统设计 -1\n",
      "Python编程:从入门到实践（第2版） 74.7\n",
      "黑客与画家:硅谷创业之父PaulGraham文集 -1\n",
      "编码:隐匿在计算机软硬件背后的语言 46.1\n",
      "逐梦旅程：Windows游戏编程之从零开始 83.3\n",
      "深入理解计算机系统（原书第3版） -1\n",
      "流畅的Python -1\n",
      "代码随想录——跟着Carl学算法 69.0\n",
      "重构（第2版）:改善既有代码的设计 151.2\n",
      "程序员修炼之道（第2版）:通向务实的最高境界 -1\n",
      "计算机程序的构造和解释(原书第2版) 34.9\n",
      "Python编程:从入门到实践 -1\n",
      "Python编程快速上手（第2版）:让繁琐工作自动化 -1\n",
      "深入理解计算机系统（原书第2版） 81.7\n",
      "机器学习实战（原书第2版）:基于Scikit-Learn、Keras和TensorFlow 122.9\n",
      "Python深度学习 99.6\n",
      "Java核心技术·卷I（原书第11版）:基础知识 122.9\n",
      "架构整洁之道 -1\n",
      "JavaScript百炼成仙 -1\n",
      "Java编程思想（第4版） -1\n",
      "EffectivePython:编写高质量Python代码的90个有效方法（原书第2版） 106.0\n",
      "编程珠玑 32.7\n",
      "算法图解 38.8\n",
      "SQL必知必会（第5版） 41.0\n",
      "编程珠玑（第2版•修订版） 33.9\n",
      "网络是怎样连接的 44.1\n",
      "CPrimerPlus（第6版）中文版:第六版 80.1\n",
      "Go语言设计与实现 117.0\n",
      "凤凰架构:构建可靠的大型分布式系统 81.6\n",
      "DesigningData-IntensiveApplications:TheBigIdeasBehindReliable,Scalable,andMaintainableSystems 954.0\n",
      "设计模式:可复用面向对象软件的基础 27.2\n",
      "Linux/UNIX系统编程手册 132.0\n",
      "C程序设计语言（第2版·新版） 22.0\n",
      "代码大全（第2版） 82.1\n",
      "JavaScript权威指南（原书第7版）:中文版犀牛书 114.7\n",
      "程序是怎样跑起来的 50.0\n",
      "程序员面试金典（第6版） 134.1\n",
      "Vue.js设计与实现 89.8\n",
      "动手学深度学习 71.1\n",
      "软技能:代码之外的生存指南 -1\n",
      "算法（第4版） -1\n",
      "程序员的自我修养:链接、装载与库 58.4\n",
      "算法导论（原书第3版） -1\n",
      "测试驱动开发 28.0\n",
      "代码整洁之道 46.5\n",
      "图解HTTP 44.1\n",
      "算法心得：高效算法的奥秘（原书第2版）:高效算法的奥秘 -1\n",
      "深度学习入门:基于Python的理论与实现 58.4\n",
      "MySQL是怎样运行的:从根儿上理解MySQL 82.9\n",
      "高性能MySQL(第3版):第3版 124.0\n",
      "操作系统导论 82.9\n",
      "EffectiveJava中文版（第3版） 98.1\n",
      "C++Primer中文版（第5版） -1\n",
      "APhilosophyofSoftwareDesign -1\n",
      "软件架构设计:大型网站技术架构与业务架构融合之道 66.1\n",
      "Orange'S:一个操作系统的实现 57.8\n",
      "利用Python进行数据分析（原书第2版） 98.1\n",
      "代码整洁之道 82.9\n",
      "计算机网络（原书第7版）:自顶向下方法 69.1\n",
      "计算机是怎样跑起来的 50.0\n",
      "人月神话(40周年中文纪念版):软件工程师经典读本不可错过的名著 60.1\n",
      "数据结构与算法分析:C语言描述 25.7\n",
      "程序员的思维修炼:开发认知潜能的九堂课 32.7\n",
      "HeadFirstHTML与CSS（第2版） 79.6\n",
      "TheAWKProgrammingLanguage 424.0\n",
      "Python数据科学手册 91.2\n",
      "数据库系统概念:（原书第6版） -1\n",
      "汇编语言（第4版） 49.0\n",
      "深入理解Java虚拟机（第3版）:JVM高级特性与最佳实践 106.0\n",
      "什么塑造了今天的编程世界:漫画编程历史大事件（2022年周历版） 134.82\n",
      "Python3网络爬虫开发实战第2版 117.0\n",
      "C专家编程 33.5\n",
      "计算机程序设计艺术・卷1:基本算法（第3版） -1\n",
      "Python3网络爬虫开发实战 89.1\n",
      "Python工匠:案例、技巧与工程实践 83.5\n",
      "GitHub入门与实践 32.7\n",
      "重构:改善既有代码的设计 57.8\n",
      "Java并发编程实战 56.9\n",
      "算法导论（原书第2版） 70.1\n"
     ]
    }
   ],
   "source": [
    "from IPython.core.display import HTML\n",
    "from IPython.display import display\n",
    "import requests\n",
    "from requests.structures import CaseInsensitiveDict\n",
    "from lxml import etree\n",
    "\n",
    "\n",
    "# next_page_url = \"https://book.douban.com/tag/%E7%BC%96%E7%A8%8B\"\n",
    "\n",
    "book_info = []\n",
    "page = 1\n",
    "while 1:\n",
    "    next_page_url = f\"https://book.douban.com/tag/%E7%BC%96%E7%A8%8B?start={(page-1)*20}&type=T\"\n",
    "    headers = CaseInsensitiveDict()\n",
    "    headers[\"User-Agent\"] = \"Mozilla/5.0 (Windows NT 10.0; Win64; x64) AppleWebKit/537.36 (KHTML, like Gecko) Chrome/99.0.4844.51 Safari/537.36 Edg/99.0.1150.39\"\n",
    "    headers[\"Accept\"] = \"text/html,application/xhtml+xml,application/xml;q=0.9,image/webp,image/apng,*/*;q=0.8,application/signed-exchange;v=b3;q=0.9\"\n",
    "    headers[\"Referer\"] = \"https://book.douban.com/\"\n",
    "\n",
    "    resp = requests.get(next_page_url, headers=headers)\n",
    "\n",
    "    content = resp.text\n",
    "    sel = etree.HTML(content)\n",
    "\n",
    "    for block in sel.xpath('//li[@class=\"subject-item\"]'):\n",
    "        title = ''\n",
    "        elem_title = block.xpath('.//h2/a')\n",
    "        if elem_title:\n",
    "            title = ''.join(elem_title[0].itertext()).replace(' ','').replace('\\n','')\n",
    "        # print(title)\n",
    "\n",
    "        price = -1\n",
    "        elem_price = block.xpath('.//span[@class=\"buy-info\"]/a/text()')\n",
    "        if elem_price:\n",
    "            s = elem_price[0].strip()\n",
    "            price = float(s[s.find('版')+2:s.find('元')])\n",
    "        # print(price)\n",
    "\n",
    "        cover = \"\"\n",
    "        elem_cover = block.xpath(\".//img/@src\")\n",
    "        if elem_cover:\n",
    "            cover = elem_cover[0]\n",
    "        # display(HTML(f\"<img src='{cover}'>\"))\n",
    "        print(title,price)\n",
    "        book_info.append([title,cover,price])\n",
    "    # elem_next_page = sel.xpath(\"//span[@class='next']/a/@href\")\n",
    "    # if elem_next_page:\n",
    "    #     next_page_url = 'https://book.douban.com/' + elem_next_page[0]\n",
    "    #     print(next_page_url)\n",
    "    #     # next_page_url\n",
    "    # else:\n",
    "    #     break\n",
    "\n",
    "    page += 1\n",
    "    if page > 4:\n",
    "        break"
   ],
   "metadata": {
    "collapsed": false,
    "pycharm": {
     "name": "#%%\n"
    }
   }
  },
  {
   "cell_type": "code",
   "execution_count": 3,
   "outputs": [
    {
     "data": {
      "text/plain": "2"
     },
     "execution_count": 3,
     "metadata": {},
     "output_type": "execute_result"
    }
   ],
   "source": [
    "'2dwffefs32132'.find('wff')"
   ],
   "metadata": {
    "collapsed": false,
    "pycharm": {
     "name": "#%%\n"
    }
   }
  },
  {
   "cell_type": "code",
   "execution_count": 6,
   "outputs": [],
   "source": [
    "s = elem_price[0].strip()"
   ],
   "metadata": {
    "collapsed": false,
    "pycharm": {
     "name": "#%%\n"
    }
   }
  },
  {
   "cell_type": "code",
   "execution_count": 8,
   "outputs": [
    {
     "data": {
      "text/plain": "10"
     },
     "execution_count": 8,
     "metadata": {},
     "output_type": "execute_result"
    }
   ],
   "source": [
    "s.find('元')"
   ],
   "metadata": {
    "collapsed": false,
    "pycharm": {
     "name": "#%%\n"
    }
   }
  },
  {
   "cell_type": "code",
   "execution_count": 10,
   "outputs": [
    {
     "data": {
      "text/plain": "'954.00'"
     },
     "execution_count": 10,
     "metadata": {},
     "output_type": "execute_result"
    }
   ],
   "source": [
    "s[s.find('版')+2:s.find('元')]"
   ],
   "metadata": {
    "collapsed": false,
    "pycharm": {
     "name": "#%%\n"
    }
   }
  },
  {
   "cell_type": "code",
   "execution_count": 15,
   "outputs": [
    {
     "data": {
      "text/plain": "80"
     },
     "execution_count": 15,
     "metadata": {},
     "output_type": "execute_result"
    }
   ],
   "source": [
    "len(book_info)"
   ],
   "metadata": {
    "collapsed": false,
    "pycharm": {
     "name": "#%%\n"
    }
   }
  },
  {
   "cell_type": "code",
   "execution_count": 32,
   "outputs": [],
   "source": [
    "import csv\n",
    "with open('book.csv','w',encoding='utf-8',newline='') as f:\n",
    "    csv_writer = csv.writer(f)\n",
    "    csv_writer.writerows(book_info)"
   ],
   "metadata": {
    "collapsed": false,
    "pycharm": {
     "name": "#%%\n"
    }
   }
  },
  {
   "cell_type": "code",
   "execution_count": 33,
   "outputs": [
    {
     "name": "stdout",
     "output_type": "stream",
     "text": [
      "['计算之魂:计算科学品位和认知进阶', 'https://img3.doubanio.com/view/subject/s/public/s34032260.jpg', '-1']\n",
      "['数据密集型应用系统设计', 'https://img2.doubanio.com/view/subject/s/public/s29872642.jpg', '-1']\n",
      "['Python编程:从入门到实践（第2版）', 'https://img1.doubanio.com/view/subject/s/public/s33716278.jpg', '74.7']\n",
      "['黑客与画家:硅谷创业之父PaulGraham文集', 'https://img9.doubanio.com/view/subject/s/public/s4669554.jpg', '-1']\n",
      "['编码:隐匿在计算机软硬件背后的语言', 'https://img2.doubanio.com/view/subject/s/public/s27331702.jpg', '46.1']\n",
      "['逐梦旅程：Windows游戏编程之从零开始', 'https://img9.doubanio.com/view/subject/s/public/s27244594.jpg', '83.3']\n",
      "['深入理解计算机系统（原书第3版）', 'https://img1.doubanio.com/view/subject/s/public/s29195878.jpg', '-1']\n",
      "['流畅的Python', 'https://img9.doubanio.com/view/subject/s/public/s29434304.jpg', '-1']\n",
      "['代码随想录——跟着Carl学算法', 'https://img9.doubanio.com/view/subject/s/public/s34054114.jpg', '69.0']\n",
      "['重构（第2版）:改善既有代码的设计', 'https://img2.doubanio.com/view/subject/s/public/s30014452.jpg', '151.2']\n",
      "['程序员修炼之道（第2版）:通向务实的最高境界', 'https://img9.doubanio.com/view/subject/s/public/s33836286.jpg', '-1']\n",
      "['计算机程序的构造和解释(原书第2版)', 'https://img9.doubanio.com/view/subject/s/public/s1113106.jpg', '34.9']\n",
      "['Python编程:从入门到实践', 'https://img9.doubanio.com/view/subject/s/public/s28891775.jpg', '-1']\n",
      "['Python编程快速上手（第2版）:让繁琐工作自动化', 'https://img9.doubanio.com/view/subject/s/public/s33845055.jpg', '-1']\n",
      "['深入理解计算机系统（原书第2版）', 'https://img9.doubanio.com/view/subject/s/public/s4510534.jpg', '81.7']\n",
      "['机器学习实战（原书第2版）:基于Scikit-Learn、Keras和TensorFlow', 'https://img9.doubanio.com/view/subject/s/public/s33732686.jpg', '122.9']\n",
      "['Python深度学习', 'https://img1.doubanio.com/view/subject/s/public/s29839337.jpg', '99.6']\n",
      "['Java核心技术·卷I（原书第11版）:基础知识', 'https://img2.doubanio.com/view/subject/s/public/s33556751.jpg', '122.9']\n",
      "['架构整洁之道', 'https://img9.doubanio.com/view/subject/s/public/s29943454.jpg', '-1']\n",
      "['JavaScript百炼成仙', 'https://img9.doubanio.com/view/subject/s/public/s34038775.jpg', '-1']\n",
      "['Java编程思想（第4版）', 'https://img9.doubanio.com/view/subject/s/public/s27243455.jpg', '-1']\n",
      "['EffectivePython:编写高质量Python代码的90个有效方法（原书第2版）', 'https://img1.doubanio.com/view/subject/s/public/s33808137.jpg', '106.0']\n",
      "['编程珠玑', 'https://img2.doubanio.com/view/subject/s/public/s4687321.jpg', '32.7']\n",
      "['算法图解', 'https://img9.doubanio.com/view/subject/s/public/s29358625.jpg', '38.8']\n",
      "['SQL必知必会（第5版）', 'https://img9.doubanio.com/view/subject/s/public/s33701044.jpg', '41.0']\n",
      "['编程珠玑（第2版•修订版）', 'https://img1.doubanio.com/view/subject/s/public/s27984539.jpg', '33.9']\n",
      "['网络是怎样连接的', 'https://img1.doubanio.com/view/subject/s/public/s29370067.jpg', '44.1']\n",
      "['CPrimerPlus（第6版）中文版:第六版', 'https://img1.doubanio.com/view/subject/s/public/s29438897.jpg', '80.1']\n",
      "['Go语言设计与实现', 'https://img1.doubanio.com/view/subject/s/public/s34071329.jpg', '117.0']\n",
      "['凤凰架构:构建可靠的大型分布式系统', 'https://img1.doubanio.com/view/subject/s/public/s33966407.jpg', '81.6']\n",
      "['DesigningData-IntensiveApplications:TheBigIdeasBehindReliable,Scalable,andMaintainableSystems', 'https://img1.doubanio.com/view/subject/s/public/s29419939.jpg', '954.0']\n",
      "['设计模式:可复用面向对象软件的基础', 'https://img2.doubanio.com/view/subject/s/public/s1074361.jpg', '27.2']\n",
      "['Linux/UNIX系统编程手册', 'https://img9.doubanio.com/view/subject/s/public/s27199116.jpg', '132.0']\n",
      "['C程序设计语言（第2版·新版）', 'https://img9.doubanio.com/view/subject/s/public/s1106934.jpg', '22.0']\n",
      "['代码大全（第2版）', 'https://img1.doubanio.com/view/subject/s/public/s1495029.jpg', '82.1']\n",
      "['JavaScript权威指南（原书第7版）:中文版犀牛书', 'https://img1.doubanio.com/view/subject/s/public/s33861377.jpg', '114.7']\n",
      "['程序是怎样跑起来的', 'https://img3.doubanio.com/view/subject/s/public/s28047380.jpg', '50.0']\n",
      "['程序员面试金典（第6版）', 'https://img9.doubanio.com/view/subject/s/public/s33469996.jpg', '134.1']\n",
      "['Vue.js设计与实现', 'https://img9.doubanio.com/view/subject/s/public/s34120804.jpg', '89.8']\n",
      "['动手学深度学习', 'https://img9.doubanio.com/view/subject/s/public/s32322795.jpg', '71.1']\n",
      "['软技能:代码之外的生存指南', 'https://img9.doubanio.com/view/subject/s/public/s28889106.jpg', '-1']\n",
      "['算法（第4版）', 'https://img2.doubanio.com/view/subject/s/public/s29107491.jpg', '-1']\n",
      "['程序员的自我修养:链接、装载与库', 'https://img1.doubanio.com/view/subject/s/public/s25136218.jpg', '58.4']\n",
      "['算法导论（原书第3版）', 'https://img9.doubanio.com/view/subject/s/public/s25648004.jpg', '-1']\n",
      "['测试驱动开发', 'https://img1.doubanio.com/view/subject/s/public/s1441607.jpg', '28.0']\n",
      "['代码整洁之道', 'https://img2.doubanio.com/view/subject/s/public/s4103991.jpg', '46.5']\n",
      "['图解HTTP', 'https://img2.doubanio.com/view/subject/s/public/s27283822.jpg', '44.1']\n",
      "['算法心得：高效算法的奥秘（原书第2版）:高效算法的奥秘', 'https://img2.doubanio.com/view/subject/s/public/s27240262.jpg', '-1']\n",
      "['深度学习入门:基于Python的理论与实现', 'https://img9.doubanio.com/view/subject/s/public/s29815955.jpg', '58.4']\n",
      "['MySQL是怎样运行的:从根儿上理解MySQL', 'https://img1.doubanio.com/view/subject/s/public/s33921878.jpg', '82.9']\n",
      "['高性能MySQL(第3版):第3版', 'https://img1.doubanio.com/view/subject/s/public/s27783358.jpg', '124.0']\n",
      "['操作系统导论', 'https://img9.doubanio.com/view/subject/s/public/s32332106.jpg', '82.9']\n",
      "['EffectiveJava中文版（第3版）', 'https://img3.doubanio.com/view/subject/s/public/s32282160.jpg', '98.1']\n",
      "['C++Primer中文版（第5版）', 'https://img3.doubanio.com/view/subject/s/public/s33903490.jpg', '-1']\n",
      "['APhilosophyofSoftwareDesign', 'https://img9.doubanio.com/view/subject/s/public/s29900655.jpg', '-1']\n",
      "['软件架构设计:大型网站技术架构与业务架构融合之道', 'https://img3.doubanio.com/view/subject/s/public/s33549340.jpg', '66.1']\n",
      "[\"Orange'S:一个操作系统的实现\", 'https://img9.doubanio.com/view/subject/s/public/s3788445.jpg', '57.8']\n",
      "['利用Python进行数据分析（原书第2版）', 'https://img1.doubanio.com/view/subject/s/public/s33711257.jpg', '98.1']\n",
      "['代码整洁之道', 'https://img9.doubanio.com/view/subject/s/public/s33634755.jpg', '82.9']\n",
      "['计算机网络（原书第7版）:自顶向下方法', 'https://img1.doubanio.com/view/subject/s/public/s29825217.jpg', '69.1']\n",
      "['计算机是怎样跑起来的', 'https://img2.doubanio.com/view/subject/s/public/s33849893.jpg', '50.0']\n",
      "['人月神话(40周年中文纪念版):软件工程师经典读本不可错过的名著', 'https://img2.doubanio.com/view/subject/s/public/s28040623.jpg', '60.1']\n",
      "['数据结构与算法分析:C语言描述', 'https://img2.doubanio.com/view/subject/s/public/s28015501.jpg', '25.7']\n",
      "['程序员的思维修炼:开发认知潜能的九堂课', 'https://img1.doubanio.com/view/subject/s/public/s4548399.jpg', '32.7']\n",
      "['HeadFirstHTML与CSS（第2版）', 'https://img1.doubanio.com/view/subject/s/public/s28988547.jpg', '79.6']\n",
      "['TheAWKProgrammingLanguage', 'https://img9.doubanio.com/view/subject/s/public/s3252374.jpg', '424.0']\n",
      "['Python数据科学手册', 'https://img1.doubanio.com/view/subject/s/public/s29667618.jpg', '91.2']\n",
      "['数据库系统概念:（原书第6版）', 'https://img2.doubanio.com/view/subject/s/public/s8958042.jpg', '-1']\n",
      "['汇编语言（第4版）', 'https://img9.doubanio.com/view/subject/s/public/s33627655.jpg', '49.0']\n",
      "['深入理解Java虚拟机（第3版）:JVM高级特性与最佳实践', 'https://img9.doubanio.com/view/subject/s/public/s33531736.jpg', '106.0']\n",
      "['什么塑造了今天的编程世界:漫画编程历史大事件（2022年周历版）', 'https://img9.doubanio.com/view/subject/s/public/s33996575.jpg', '134.82']\n",
      "['Python3网络爬虫开发实战第2版', 'https://img1.doubanio.com/view/subject/s/public/s34057567.jpg', '117.0']\n",
      "['C专家编程', 'https://img9.doubanio.com/view/subject/s/public/s5886086.jpg', '33.5']\n",
      "['计算机程序设计艺术・卷1:基本算法（第3版）', 'https://img9.doubanio.com/view/subject/s/public/s28357866.jpg', '-1']\n",
      "['Python3网络爬虫开发实战', 'https://img3.doubanio.com/view/subject/s/public/s29725690.jpg', '89.1']\n",
      "['Python工匠:案例、技巧与工程实践', 'https://img9.doubanio.com/view/subject/s/public/s34093255.jpg', '83.5']\n",
      "['GitHub入门与实践', 'https://img9.doubanio.com/view/subject/s/public/s28147406.jpg', '32.7']\n",
      "['重构:改善既有代码的设计', 'https://img3.doubanio.com/view/subject/s/public/s4157180.jpg', '57.8']\n",
      "['Java并发编程实战', 'https://img2.doubanio.com/view/subject/s/public/s7663093.jpg', '56.9']\n",
      "['算法导论（原书第2版）', 'https://img1.doubanio.com/view/subject/s/public/s1959967.jpg', '70.1']\n"
     ]
    }
   ],
   "source": [
    "with open('book.csv','r',encoding='utf-8') as f:\n",
    "    csv_reader = csv.reader(f)\n",
    "    for line in csv_reader:\n",
    "        print(line)"
   ],
   "metadata": {
    "collapsed": false,
    "pycharm": {
     "name": "#%%\n"
    }
   }
  },
  {
   "cell_type": "code",
   "execution_count": 65,
   "outputs": [
    {
     "name": "stdout",
     "output_type": "stream",
     "text": [
      "⚡️ 中 国 人 不 蹦 洋 迪 ⚡️\n",
      "谁会拒绝一首免费的稻香呢～如果你把在城市的努力程度放到农村，你的生活也可以过的很好。\n",
      "什么人会在图书馆当舔狗？【硬核狠人29】\n",
      "五个稀奇古怪的网站，浪费你46秒时间。\n",
      "你以为时间还很长\n",
      "曾遭全网封杀的杀马特，身上藏着中国最残酷的底层之痛【宅总】\n",
      "好久没有看到爸妈这么团结了\n",
      "我盘下了一个小卖部一周！亏了多少钱呢？\n",
      "被这带货的小朋友笑死\n",
      "“妈妈，齐天大圣被枪打死了”\n",
      "我不干啦！！！！！\n",
      "老 坛 酸 菜 杀 人 事 件\n",
      "它根据真实事件改编，疯狂揭露人性的底线！\n",
      "耗时一年，我把原神玩到了100G！嗒当的摄影分享#2\n",
      "朴实无华老坛酸菜面\n",
      "游戏主播爆砍两小时拼多多，砍到小数点后六位，六万人在线没砍下一台手机。\n",
      "酸菜清汤面\n",
      "耗时七天复刻鲍鱼中最顶级的吃法、一口下去我直呼离谱…\n",
      "“别人说30秒就忍不住要打断，你是这样的人吗？”\n",
      "梁龙×周深《算你狠》丨喝不喝酒你都上头\n",
      "刘 庸 历 险 记\n",
      "（这也能解说？！）史上最燃的弹珠大赛【第九弹】天才归来？燃尽一切的冲锋！\n",
      "因为疫情又封城了，小区的流浪猫在我家睡成了这样\n",
      "某音乐高校本科生求偶视频\n",
      "给失去双腿的独耳小猫做了一套炫酷义肢\n",
      "破晓来时，谁是英雄？\n",
      "真 人 版 我 的 世 界\n",
      "小潮team的新家!!!\n",
      "第一视角无痛体验长跑噩梦，体测无伤跑进3分钟是什么体验？【冷却报告】\n",
      "耗时14小时，近十万条指令！！！不知能否带走你一个免费的三连（火了就吃ice!!)\n",
      "当代大学生封校日常\n",
      "50小时！ 我终于一命通关了史上最“坑”的自闭游戏！\n",
      "我发现了浮岛城市！【木筏求生#完结】\n",
      "中方给乌克兰提供了食品、儿童奶粉、睡袋...美国给乌克兰送去机枪和炮弹\n",
      "【人类迷惑行为】121 属于人类的顶级理解\n",
      "你画你的  我猜我的\n",
      "【人类迷惑行为】120 看我怎么优雅地整花活\n",
      "快手主播被罚6200万背后，我看到了一个“被遗忘”的世界\n",
      "【原神】🎉🎉2.6 版 本 玩 家 现 状🎉🎉\n",
      "封楼，《七里香》大合唱！\n",
      "被隔离惹！宅家跳个舞(ノ_＜)与梦盛开～\n",
      "【半佛】老坛酸菜炸了，康师傅笑了\n",
      "【花滑千金】展示一下我的房间\n",
      "《沈 阳 说 唱 大 街》\n",
      "又是一个比赛级别的作品，徒弟不听劝非要做，一起来看看结果。\n",
      "up主良心整理全网最全steam小技巧，带你玩转steam骚套路！\n",
      "爷孙俩的幸福生活，有没有感同身受\n",
      "“今天，我的DNA彻底崩溃了！”\n",
      "一封密信引发的血案！宋江杀惜！《水浒传》P13\n",
      "牛特勒的一次慷慨激昂的演讲，他承诺让所有牛都过上有水有草的日子\n",
      "短 发 天 花 板\n",
      "当你能和「所有方块」进行交易？？！\n",
      "当广东人第一次来到重庆\n",
      "《你从未离去》2022新版 70人大合唱！ 爷青回！\n",
      "【超级小桀】桀哥讲述拼多多砍价事件的始末，并声称希望媒体能够如实报道，不要为了博眼球断章取义\n",
      "励志轻度智障B友，送快递月入14000元\n",
      "三月新番，猛男开荒！ 从未设想的节目效果他来了\n",
      "求偶视频 南京医科大学 看起来有点呆但本人聪明得很\n",
      "当着女儿的面秀恩爱，没想到女儿会读心！\n",
      "顶不住了，我们居然比土味还要土？！！\n"
     ]
    }
   ],
   "source": [
    "from IPython.core.display import HTML\n",
    "from IPython.display import display\n",
    "import requests\n",
    "from requests.structures import CaseInsensitiveDict\n",
    "from lxml import etree\n",
    "page = 1\n",
    "while 1:\n",
    "    next_page_url = f\"https://api.bilibili.com/x/web-interface/popular?ps=20&pn={page}\"\n",
    "\n",
    "    headers = CaseInsensitiveDict()\n",
    "    headers[\"authority\"] = \"api.bilibili.com\"\n",
    "    headers[\"sec-ch-ua-mobile\"] = \"?0\"\n",
    "    headers[\"user-agent\"] = \"Mozilla/5.0 (Windows NT 10.0; Win64; x64) AppleWebKit/537.36 (KHTML, like Gecko) Chrome/99.0.4844.74 Safari/537.36 Edg/99.0.1150.46\"\n",
    "    headers[\"accept\"] = \"*/*\"\n",
    "    headers[\"referer\"] = \"https://www.bilibili.com/\"\n",
    "    headers[\"accept-language\"] = \"zh-CN,zh;q=0.9,en;q=0.8,en-GB;q=0.7,en-US;q=0.6\"\n",
    "\n",
    "    resp = requests.get(next_page_url, headers=headers)\n",
    "    json_content = resp.json()\n",
    "    for item in json_content['data']['list']:\n",
    "        print(item['title'])\n",
    "\n",
    "    page +=1\n",
    "    if page > 3:\n",
    "        break\n"
   ],
   "metadata": {
    "collapsed": false,
    "pycharm": {
     "name": "#%%\n"
    }
   }
  }
 ],
 "metadata": {
  "kernelspec": {
   "name": "python3",
   "language": "python",
   "display_name": "Python 3 (ipykernel)"
  },
  "language_info": {
   "codemirror_mode": {
    "name": "ipython",
    "version": 2
   },
   "file_extension": ".py",
   "mimetype": "text/x-python",
   "name": "python",
   "nbconvert_exporter": "python",
   "pygments_lexer": "ipython2",
   "version": "2.7.6"
  }
 },
 "nbformat": 4,
 "nbformat_minor": 0
}